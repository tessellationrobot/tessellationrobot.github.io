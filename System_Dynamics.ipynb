{
 "cells": [
  {
   "cell_type": "code",
   "execution_count": 1,
   "metadata": {
    "colab": {
     "base_uri": "https://localhost:8080/"
    },
    "id": "N-kB44XNMHua",
    "outputId": "5713582d-7b1b-4378-9e25-5d2aa67063c4"
   },
   "outputs": [
    {
     "name": "stdout",
     "output_type": "stream",
     "text": [
      "Requirement already satisfied: pynamics in c:\\users\\mshah72\\miniconda3\\lib\\site-packages (0.2.0)\n",
      "Requirement already satisfied: matplotlib in c:\\users\\mshah72\\miniconda3\\lib\\site-packages (from pynamics) (3.5.0)\n",
      "Requirement already satisfied: scipy in c:\\users\\mshah72\\miniconda3\\lib\\site-packages (from pynamics) (1.7.3)\n",
      "Requirement already satisfied: numpy in c:\\users\\mshah72\\miniconda3\\lib\\site-packages (from pynamics) (1.20.3)\n",
      "Requirement already satisfied: sympy in c:\\users\\mshah72\\miniconda3\\lib\\site-packages (from pynamics) (1.9)\n",
      "Requirement already satisfied: kiwisolver>=1.0.1 in c:\\users\\mshah72\\miniconda3\\lib\\site-packages (from matplotlib->pynamics) (1.3.1)\n",
      "Requirement already satisfied: cycler>=0.10 in c:\\users\\mshah72\\miniconda3\\lib\\site-packages (from matplotlib->pynamics) (0.11.0)\n",
      "Requirement already satisfied: python-dateutil>=2.7 in c:\\users\\mshah72\\miniconda3\\lib\\site-packages (from matplotlib->pynamics) (2.8.2)\n",
      "Requirement already satisfied: fonttools>=4.22.0 in c:\\users\\mshah72\\miniconda3\\lib\\site-packages (from matplotlib->pynamics) (4.25.0)\n",
      "Requirement already satisfied: pillow>=6.2.0 in c:\\users\\mshah72\\miniconda3\\lib\\site-packages (from matplotlib->pynamics) (8.4.0)\n",
      "Requirement already satisfied: pyparsing>=2.2.1 in c:\\users\\mshah72\\miniconda3\\lib\\site-packages (from matplotlib->pynamics) (3.0.4)\n",
      "Requirement already satisfied: packaging>=20.0 in c:\\users\\mshah72\\miniconda3\\lib\\site-packages (from matplotlib->pynamics) (21.3)\n",
      "Requirement already satisfied: six>=1.5 in c:\\users\\mshah72\\miniconda3\\lib\\site-packages (from python-dateutil>=2.7->matplotlib->pynamics) (1.16.0)\n",
      "Requirement already satisfied: mpmath>=0.19 in c:\\users\\mshah72\\miniconda3\\lib\\site-packages (from sympy->pynamics) (1.2.1)\n"
     ]
    }
   ],
   "source": [
    "!pip install pynamics\n",
    "%matplotlib inline\n",
    "import pynamics\n",
    "from pynamics.frame import Frame\n",
    "from pynamics.variable_types import Differentiable,Constant\n",
    "from pynamics.system import System\n",
    "from pynamics.body import Body\n",
    "from pynamics.dyadic import Dyadic\n",
    "from pynamics.output import Output,PointsOutput\n",
    "from pynamics.particle import Particle\n",
    "from pynamics.constraint import AccelerationConstraint\n",
    "import pynamics.integration\n",
    "import numpy\n",
    "import sympy\n",
    "import matplotlib.pyplot as plt\n",
    "plt.ion()\n",
    "from math import pi"
   ]
  },
  {
   "cell_type": "code",
   "execution_count": null,
   "metadata": {
    "id": "0xqiQ-KXM-UU"
   },
   "outputs": [],
   "source": [
    "system=System()\n",
    "pynamics.set_system(__name__,system)"
   ]
  },
  {
   "cell_type": "code",
   "execution_count": null,
   "metadata": {
    "id": "yC5UOMhgNx0q"
   },
   "outputs": [],
   "source": [
    "lA = Constant(.05,'lA',system)\n",
    "lB = Constant(.05,'lB',system)\n",
    "\n",
    "mA = Constant(1,'mA',system)\n",
    "mB = Constant(1,'mB',system)\n",
    "\n",
    "g = Constant(9.81,'g',system)     #Gravity \n",
    "b = Constant(1e-1,'b',system)\n",
    "k = Constant(1e-1,'k',system)\n",
    "\n",
    "preload1 = Constant(-120*pi/180,'preload1',system)\n",
    "preload2 = Constant(15*pi/180,'preload2',system)\n",
    "\n",
    "Ixx_A = Constant(1,'Ixx_A',system)    #Inertial values that describe te dyatics/inertia of the rigid bodies about x, y and z axes \n",
    "Iyy_A = Constant(1,'Iyy_A',system)\n",
    "Izz_A = Constant(1,'Izz_A',system)\n",
    "Ixx_B = Constant(1,'Ixx_B',system)\n",
    "Iyy_B = Constant(1,'Iyy_B',system)\n",
    "Izz_B = Constant(1,'Izz_B',system)\n",
    "\n",
    "torque = Constant(0,'torque',system)\n",
    "freq = Constant(3e0,'freq',system)  #3e0 means 3Hz"
   ]
  },
  {
   "cell_type": "code",
   "execution_count": null,
   "metadata": {
    "id": "GvnteltaOeAz"
   },
   "outputs": [],
   "source": [
    "qA,qA_d,qA_dd = Differentiable('qA',system)     #3 state variables: qA, qA_d,qA_dd\n",
    "qB,qB_d,qB_dd = Differentiable('qB',system)"
   ]
  },
  {
   "cell_type": "code",
   "execution_count": null,
   "metadata": {
    "id": "SoXWGR_tOg5H"
   },
   "outputs": [],
   "source": [
    "initialvalues = {}\n",
    "initialvalues[qA]=-120*pi/180\n",
    "initialvalues[qA_d]=0*pi/180\n",
    "initialvalues[qB]=15*pi/180\n",
    "initialvalues[qB_d]=0*pi/180"
   ]
  },
  {
   "cell_type": "code",
   "execution_count": null,
   "metadata": {
    "id": "zxHrJu9wOhiS"
   },
   "outputs": [],
   "source": [
    "statevariables = system.get_state_variables()\n",
    "ini = [initialvalues[item] for item in statevariables]"
   ]
  },
  {
   "cell_type": "code",
   "execution_count": null,
   "metadata": {
    "id": "5p4oP-uLQDjR"
   },
   "outputs": [],
   "source": [
    "#Defining reference frames of the system \n",
    "N = Frame('N',system)\n",
    "A = Frame('A',system)\n",
    "B = Frame('B',system)"
   ]
  },
  {
   "cell_type": "code",
   "execution_count": null,
   "metadata": {
    "id": "SiW0GbcSQD9V"
   },
   "outputs": [],
   "source": [
    "system.set_newtonian(N)"
   ]
  },
  {
   "cell_type": "code",
   "execution_count": null,
   "metadata": {
    "id": "uQTPAd5rSVRS"
   },
   "outputs": [],
   "source": [
    "A.rotate_fixed_axis(N,[0,0,1],qA,system)\n",
    "B.rotate_fixed_axis(A,[0,0,1],qB,system)"
   ]
  },
  {
   "cell_type": "code",
   "execution_count": null,
   "metadata": {
    "id": "tdX6cQ_VQGBA"
   },
   "outputs": [],
   "source": [
    "pNA=0*N.x\n",
    "pAB=pNA+lA*A.x\n",
    "pBtip = pAB + lB*B.x"
   ]
  },
  {
   "cell_type": "code",
   "execution_count": null,
   "metadata": {
    "id": "B_mmlPKzQRR5"
   },
   "outputs": [],
   "source": [
    "pAcm=pNA+lA/2*A.x   #Center of mass\n",
    "pBcm=pAB+lB/2*B.x"
   ]
  },
  {
   "cell_type": "code",
   "execution_count": null,
   "metadata": {
    "colab": {
     "base_uri": "https://localhost:8080/"
    },
    "id": "1adxiV2QQS8N",
    "outputId": "310ce74e-738d-46c9-d0fd-6f8c95c28e37"
   },
   "outputs": [
    {
     "data": {
      "text/plain": [
       "qA_d*N.z"
      ]
     },
     "execution_count": 12,
     "metadata": {},
     "output_type": "execute_result"
    }
   ],
   "source": [
    "wNA = N.get_w_to(A) #Angular velocity \n",
    "wNA\n"
   ]
  },
  {
   "cell_type": "code",
   "execution_count": null,
   "metadata": {
    "colab": {
     "base_uri": "https://localhost:8080/"
    },
    "id": "rEo0bvOYSo0x",
    "outputId": "0e748ba8-0250-4ea8-cddf-904137b049f5"
   },
   "outputs": [
    {
     "data": {
      "text/plain": [
       "qB_d*A.z"
      ]
     },
     "execution_count": 13,
     "metadata": {},
     "output_type": "execute_result"
    }
   ],
   "source": [
    "wAB = A.get_w_to(B)\n",
    "wAB\n"
   ]
  },
  {
   "cell_type": "code",
   "execution_count": null,
   "metadata": {
    "id": "y2KOKdj-Sh6m"
   },
   "outputs": [],
   "source": [
    "vBtip = pBtip.time_derivative(N,system)"
   ]
  },
  {
   "cell_type": "code",
   "execution_count": null,
   "metadata": {
    "id": "hI_p2yA4QUqH"
   },
   "outputs": [],
   "source": [
    "IA = Dyadic.build(A,Ixx_A,Iyy_A,Izz_A)  \n",
    "IB = Dyadic.build(B,Ixx_B,Iyy_B,Izz_B)\n",
    "\n",
    "BodyA = Body('BodyA',A,pAcm,mA,IA,system)\n",
    "BodyB = Body('BodyB',B,pBcm,mB,IB,system)\n",
    "#BodyC = Particle(pCcm,mC,'ParticleC',system)"
   ]
  },
  {
   "cell_type": "code",
   "execution_count": null,
   "metadata": {
    "colab": {
     "base_uri": "https://localhost:8080/"
    },
    "id": "Qh7xKDHvSdSM",
    "outputId": "01d17cfd-7538-48e4-d52b-f0e789769ec1"
   },
   "outputs": [
    {
     "data": {
      "text/plain": [
       "<pynamics.force.Force at 0x7fa99d1b24d0>"
      ]
     },
     "execution_count": 16,
     "metadata": {},
     "output_type": "execute_result"
    }
   ],
   "source": [
    "system.addforce(torque*sympy.sin(freq*2*sympy.pi*system.t)*A.z,wNA)     #2*pi*f - converting Hz to radians "
   ]
  },
  {
   "cell_type": "code",
   "execution_count": null,
   "metadata": {
    "colab": {
     "base_uri": "https://localhost:8080/"
    },
    "id": "Vb15Fh1STMhK",
    "outputId": "89e2a5cc-f689-4621-fdeb-9e908bb2ba10"
   },
   "outputs": [
    {
     "data": {
      "text/plain": [
       "<pynamics.force.Force at 0x7fa99d1af3d0>"
      ]
     },
     "execution_count": 17,
     "metadata": {},
     "output_type": "execute_result"
    }
   ],
   "source": [
    "system.addforce(-b*wNA,wNA)     # Damper forces\n",
    "system.addforce(-b*wAB,wAB)\n"
   ]
  },
  {
   "cell_type": "code",
   "execution_count": null,
   "metadata": {
    "colab": {
     "base_uri": "https://localhost:8080/"
    },
    "id": "dnMZBChPTPuG",
    "outputId": "78561671-3995-4cbc-be62-8a5e8d3e0748"
   },
   "outputs": [
    {
     "data": {
      "text/plain": [
       "(<pynamics.force.Force at 0x7fa99d1bfb50>,\n",
       " <pynamics.spring.Spring at 0x7fa99d1bfa50>)"
      ]
     },
     "execution_count": 18,
     "metadata": {},
     "output_type": "execute_result"
    }
   ],
   "source": [
    "system.add_spring_force1(k,(qA-preload1)*N.z,wNA)   #Spring forces\n",
    "system.add_spring_force1(k,(qB-preload2)*A.z,wAB)\n"
   ]
  },
  {
   "cell_type": "code",
   "execution_count": null,
   "metadata": {
    "id": "MNDnyHG1Ue-V"
   },
   "outputs": [],
   "source": [
    "system.addforcegravity(-g*N.y)"
   ]
  },
  {
   "cell_type": "code",
   "execution_count": null,
   "metadata": {
    "colab": {
     "base_uri": "https://localhost:8080/"
    },
    "id": "hqF6-cmkUlyD",
    "outputId": "e84626ce-031c-46be-95e3-b32931dd8136"
   },
   "outputs": [
    {
     "name": "stderr",
     "output_type": "stream",
     "text": [
      "2022-03-01 01:44:48,665 - pynamics.system - INFO - getting dynamic equations\n"
     ]
    }
   ],
   "source": [
    "f,ma = system.getdynamics()"
   ]
  },
  {
   "cell_type": "code",
   "execution_count": null,
   "metadata": {
    "colab": {
     "base_uri": "https://localhost:8080/"
    },
    "id": "IM-LzkaEUmSC",
    "outputId": "30aa80c3-e848-414c-a1ea-206dfd32ca30"
   },
   "outputs": [
    {
     "data": {
      "text/plain": [
       "[-b*qA_d - g*lA*mA*cos(qA)/2 - g*lA*mB*cos(qA) + g*lB*mB*sin(qA)*sin(qB)/2 - g*lB*mB*cos(qA)*cos(qB)/2 - k*(-preload1 + qA) + torque*sin(2*freq*pi*t), -b*qB_d + g*lB*mB*sin(qA)*sin(qB)/2 - g*lB*mB*cos(qA)*cos(qB)/2 - k*(-preload2 + qB)]"
      ]
     },
     "execution_count": 21,
     "metadata": {},
     "output_type": "execute_result"
    }
   ],
   "source": [
    "f"
   ]
  },
  {
   "cell_type": "code",
   "execution_count": null,
   "metadata": {
    "colab": {
     "base_uri": "https://localhost:8080/"
    },
    "id": "T3oMI_CqUzL3",
    "outputId": "33e63957-0800-48f3-fe6f-5430d1aa26f0"
   },
   "outputs": [
    {
     "data": {
      "text/plain": [
       "[Izz_A*qA_dd + Izz_B*(qA_dd + qB_dd) + lA**2*mA*qA_dd/4 + lA**2*mB*qA_dd + lA*lB*mB*qA_d**2*sin(qB)/2 + lA*lB*mB*qA_dd*cos(qB)/2 - lA*lB*mB*(qA_d + qB_d)**2*sin(qB)/2 + lA*mB*(lB*qA_dd/2 + lB*qB_dd/2)*cos(qB) + lB*mB*(lB*qA_dd/2 + lB*qB_dd/2)/2, Izz_B*(qA_dd + qB_dd) + lA*lB*mB*qA_d**2*sin(qB)/2 + lA*lB*mB*qA_dd*cos(qB)/2 + lB*mB*(lB*qA_dd/2 + lB*qB_dd/2)/2]"
      ]
     },
     "execution_count": 22,
     "metadata": {},
     "output_type": "execute_result"
    }
   ],
   "source": [
    "ma"
   ]
  },
  {
   "cell_type": "code",
   "execution_count": null,
   "metadata": {
    "colab": {
     "base_uri": "https://localhost:8080/"
    },
    "id": "eMx-fnoQUz9H",
    "outputId": "0eab55b4-0c13-4ec1-e4f5-1ccfb6ef5e90"
   },
   "outputs": [
    {
     "name": "stderr",
     "output_type": "stream",
     "text": [
      "2022-03-01 01:44:49,069 - pynamics.system - INFO - solving a = f/m and creating function\n",
      "2022-03-01 01:44:49,179 - pynamics.system - INFO - substituting constrained in Ma-f.\n",
      "2022-03-01 01:44:49,313 - pynamics.system - INFO - done solving a = f/m and creating function\n",
      "2022-03-01 01:44:49,324 - pynamics.system - INFO - calculating function for lambdas\n"
     ]
    }
   ],
   "source": [
    "func1,lambda1 = system.state_space_post_invert(f,ma,return_lambda = True)\n"
   ]
  },
  {
   "cell_type": "code",
   "execution_count": null,
   "metadata": {
    "id": "cs-1bZmrWBdl"
   },
   "outputs": [],
   "source": [
    "tol = 1e-5\n"
   ]
  },
  {
   "cell_type": "code",
   "execution_count": null,
   "metadata": {
    "id": "11K1PVq7WC7K"
   },
   "outputs": [],
   "source": [
    "tinitial = 0\n",
    "tfinal = 10\n",
    "fps = 30\n",
    "tstep = 1/fps\n",
    "t = numpy.r_[tinitial:tfinal:tstep]"
   ]
  },
  {
   "cell_type": "code",
   "execution_count": null,
   "metadata": {
    "colab": {
     "base_uri": "https://localhost:8080/"
    },
    "id": "sgJdNDVmWEV-",
    "outputId": "fb0dd059-180e-47f5-a005-fa2da8c95b23"
   },
   "outputs": [
    {
     "name": "stderr",
     "output_type": "stream",
     "text": [
      "2022-03-01 01:44:49,420 - pynamics.integration - INFO - beginning integration\n",
      "2022-03-01 01:44:49,422 - pynamics.system - INFO - integration at time 0000.00\n",
      "2022-03-01 01:44:49,443 - pynamics.integration - INFO - finished integration\n"
     ]
    }
   ],
   "source": [
    "states=pynamics.integration.integrate(func1,ini,t,rtol=tol,atol=tol, args=({'constants':system.constant_values},))\n"
   ]
  },
  {
   "cell_type": "code",
   "execution_count": null,
   "metadata": {
    "colab": {
     "base_uri": "https://localhost:8080/",
     "height": 283
    },
    "id": "xQQ5y1TLWFvB",
    "outputId": "cbf1865e-6a1d-4944-f662-81acec0d8074"
   },
   "outputs": [
    {
     "data": {
      "text/plain": [
       "<matplotlib.legend.Legend at 0x7fa991a856d0>"
      ]
     },
     "execution_count": 27,
     "metadata": {},
     "output_type": "execute_result"
    },
    {
     "data": {
      "image/png": "[encoded data removed]",
      "text/plain": [
       "<Figure size 432x288 with 1 Axes>"
      ]
     },
     "metadata": {
      "needs_background": "light"
     },
     "output_type": "display_data"
    }
   ],
   "source": [
    "plt.figure()\n",
    "artists = plt.plot(t,states[:,:2])\n",
    "plt.legend(artists,['qA','qB'])"
   ]
  },
  {
   "cell_type": "code",
   "execution_count": null,
   "metadata": {
    "colab": {
     "base_uri": "https://localhost:8080/",
     "height": 302
    },
    "id": "LduKXX8lWHUM",
    "outputId": "f601a8e2-9c09-4513-c73e-bdf9f147f891"
   },
   "outputs": [
    {
     "name": "stderr",
     "output_type": "stream",
     "text": [
      "2022-03-01 01:44:49,858 - pynamics.output - INFO - calculating outputs\n",
      "2022-03-01 01:44:49,866 - pynamics.output - INFO - done calculating outputs\n"
     ]
    },
    {
     "data": {
      "image/png": "[encoded data removed]",
      "text/plain": [
       "<Figure size 432x288 with 1 Axes>"
      ]
     },
     "metadata": {
      "needs_background": "light"
     },
     "output_type": "display_data"
    }
   ],
   "source": [
    "KE = system.get_KE()\n",
    "PE = system.getPEGravity(pNA) - system.getPESprings()\n",
    "energy_output = Output([KE-PE],system)\n",
    "energy_output.calc(states,t)\n",
    "energy_output.plot_time()"
   ]
  },
  {
   "cell_type": "code",
   "execution_count": null,
   "metadata": {
    "colab": {
     "base_uri": "https://localhost:8080/",
     "height": 320
    },
    "id": "l6cLZlxIWI-s",
    "outputId": "5c38fa4e-4e51-410b-adc4-4ca46546e412"
   },
   "outputs": [
    {
     "name": "stderr",
     "output_type": "stream",
     "text": [
      "2022-03-01 01:44:50,198 - pynamics.output - INFO - calculating outputs\n",
      "2022-03-01 01:44:50,206 - pynamics.output - INFO - done calculating outputs\n"
     ]
    },
    {
     "data": {
      "text/plain": [
       "<matplotlib.axes._subplots.AxesSubplot at 0x7fa98f50b8d0>"
      ]
     },
     "execution_count": 29,
     "metadata": {},
     "output_type": "execute_result"
    },
    {
     "data": {
      "image/png": "[encoded data removed]",
      "text/plain": [
       "<Figure size 432x288 with 1 Axes>"
      ]
     },
     "metadata": {
      "needs_background": "light"
     },
     "output_type": "display_data"
    }
   ],
   "source": [
    "points = [pNA,pAB,pBtip]\n",
    "points_output = PointsOutput(points,system)\n",
    "y = points_output.calc(states,t)\n",
    "points_output.plot_time(20)"
   ]
  },
  {
   "cell_type": "code",
   "execution_count": null,
   "metadata": {
    "colab": {
     "base_uri": "https://localhost:8080/",
     "height": 287
    },
    "id": "i_htTYElWLC4",
    "outputId": "d192c254-8de5-47a6-c4ef-2bbe97662a3b"
   },
   "outputs": [
    {
     "data": {
      "text/plain": [
       "<matplotlib.axes._subplots.AxesSubplot at 0x7fa98f469290>"
      ]
     },
     "execution_count": 30,
     "metadata": {},
     "output_type": "execute_result"
    },
    {
     "data": {
      "image/png": "[encoded data removed]",
      "text/plain": [
       "<Figure size 432x288 with 1 Axes>"
      ]
     },
     "metadata": {
      "needs_background": "light"
     },
     "output_type": "display_data"
    }
   ],
   "source": [
    "points_output.animate(fps = fps,movie_name = 'triple_pendulum.mp4',lw=2,marker='o',color=(1,0,0,1),linestyle='-')\n"
   ]
  },
  {
   "cell_type": "code",
   "execution_count": null,
   "metadata": {
    "colab": {
     "base_uri": "https://localhost:8080/",
     "height": 310
    },
    "id": "YaBeC65IWTZw",
    "outputId": "0ffea1af-c9ad-45de-bf25-5960ca132437"
   },
   "outputs": [
    {
     "data": {
      "text/html": [
       "<video width=\"432\" height=\"288\" controls autoplay loop>\n",
       "  <source type=\"video/mp4\" src=\"data:video/mp4;base64,AAAAHGZ0eXBNNFYgAAACAGlzb21pc28yYXZjMQAAAAhmcmVlAACo8m1kYXQAAAKuBgX//6rcRem9\n",
       "5tlIt5Ys2CDZI+7veDI2NCAtIGNvcmUgMTUyIHIyODU0IGU5YTU5MDMgLSBILjI2NC9NUEVHLTQg\n",
       "QVZDIGNvZGVjIC0gQ29weWxlZnQgMjAwMy0yMDE3IC0gaHR0cDovL3d3dy52aWRlb2xhbi5vcmcv\n",
       "eDI2NC5odG1sIC0gb3B0aW9uczogY2FiYWM9MSByZWY9MyBkZWJsb2NrPTE6MDowIGFuYWx5c2U9\n",
       "MHgzOjB4MTEzIG1lPWhleCBzdWJtZT03IHBzeT0xIHBzeV9yZD0xLjAwOjAuMDAgbWl4ZWRfcmVm\n",
       "PTEgbWVfcmFuZ2U9MTYgY2hyb21hX21lPTEgdHJlbGxpcz0xIDh4OGRjdD0xIGNxbT0wIGRlYWR6\n",
       "b25lPTIxLDExIGZhc3RfcHNraXA9MSBjaHJvbWFfcXBfb2Zmc2V0PS0yIHRocmVhZHM9MyBsb29r\n",
       "YWhlYWRfdGhyZWFkcz0xIHNsaWNlZF90aHJlYWRzPTAgbnI9MCBkZWNpbWF0ZT0xIGludGVybGFj\n",
       "ZWQ9MCBibHVyYXlfY29tcGF0PTAgY29uc3RyYWluZWRfaW50cmE9MCBiZnJhbWVzPTMgYl9weXJh\n",
       "bWlkPTIgYl9hZGFwdD0xIGJfYmlhcz0wIGRpcmVjdD0xIHdlaWdodGI9MSBvcGVuX2dvcD0wIHdl\n",
       "aWdodHA9MiBrZXlpbnQ9MjUwIGtleWludF9taW49MjUgc2NlbmVjdXQ9NDAgaW50cmFfcmVmcmVz\n",
       "aD0wIHJjX2xvb2thaGVhZD00MCByYz1jcmYgbWJ0cmVlPTEgY3JmPTIzLjAgcWNvbXA9MC42MCBx\n",
       "cG1pbj0wIHFwbWF4PTY5IHFwc3RlcD00IGlwX3JhdGlvPTEuNDAgYXE9MToxLjAwAIAAAAvzZYiE\n",
       "ADf//vbw/gU2O5jQlxHN6J0zH78VuLo0N73OAAADAAA33OZE/s3S+BovwBTAWBrEmciNd1UuiAia\n",
       "CLwpg/sh85WpQaQOlyvfo/ZXUt4pIxkWpVcgmkJ8yN4/2hi/mZ1aIJU7aTjqamcxPsFAAA1g5VVH\n",
       "KX82IKXz5eD0zVDGTU1hq9ilyhgSGdJLuB3Qn8qb5ioYiJnUNAqPTv2F6JqhgB2IOfzSK7VCFDx4\n",
       "cODTr50rRibFpKh9JmTWfvpawVpB7yzWVngQciZrjFHhtJvDny61qZY+NahjeFM/SGS/gSb8kz9G\n",
       "H9bHFmAxDCZTr/lFEKSVsDji0SC2PtXmGN4yOlp/fMxV83q4xnAJQLsncfvWfFtpkPR/2GDSAizJ\n",
       "bmJpW4pHvufUp/iuG3l4fmWNBkWbS/tKVCstoANXU/8Tk/CQrrU2rT7hNl+JYn/uMKMS1mP7XCAf\n",
       "PDnCucZD+LiiBeWQVlPZYJAs+w47mMCznyglqYebOVYKYxpAvEH7xLYJO/NOe0Om0k5x1ajRkB/N\n",
       "cFC6LRy1MB39qmwje2JkyN62+ny51nKYzEO6AuXNsFh+nSUSbs+UtsUMnX3609HjBr9nF+A4HEok\n",
       "qXcxRLMtc84TOUS00NaFTeGPIylS1+vqNy7ph3n1fvetDksJZlRSTyOs9OE5gbn9lofMV3u7kqKm\n",
       "U2DT0Je/EQvBPoMzUPVnFEAA1kJ3h0AFsGO7v4rXuGL5e2ihZ104kBJpeIFzlbp4MEQH44f/YtdH\n",
       "Sdm9VjgEW6WS7ohSYYFq3JOVamsbQLxNrYatLdBdFyvRvyk37EzrYtOa/AaoC4Z3PNywvFFuCmx+\n",
       "9hTBXosT4hiMskOewQ3baMzxeAwQ8pELnPkrkUzyMeqP4YrFzqA1+9vdlPUe2F9q6GPVVI04E1rz\n",
       "SuZz70ZTHuzuSMScsof/Pae7fhWMOrb7XV+d4JYlNlEVo8HHHmYlT79ZU8YwO4NNfvi6lciUptLP\n",
       "5ACXjKsVwlkAPYnFrUqbmhF1kLws4UlSgDM5DyNQDLfm9s41OoATRLyq+haBBdzYpFtc9bAbVMFr\n",
       "BVgIs/iWkRZi4Xi+TIAOo5FYgq0batU3zT8+7AfCFcalJKnmaqr5JK2JcSmKn0TNJqzp+VZ+HYBH\n",
       "gT+4ZNg7buMKeY6YPZPcLN4H/2LmNk7MilWR3Rq/cpuFtb0HHethL0c0kDEEk/y1zgmoAn2NZUBs\n",
       "HHBW2VdiFf2+pA3/O6e0rbUzHYhBVU3AkZE4K4kuw4gpjnXP+V2k1M8MCXf4SoSAH8seSZPcBGf2\n",
       "giIpG++g+N9oN1XxotBLMvWHpRZAvCEpeCQ6IjXaUcLrrzddlDyAWSakpeisno0/JSZNUUF83czR\n",
       "VB0ou8ibjOkHYyPXfpgy89pzz6KMVrnbAH6otE6OCs8xBDFyg2pIAEa+zViPsAAekdBXgumUIyC3\n",
       "Sf85vS+1hI8sRB2NFp+4MFoiSYq5+eOeYVhn8zLDHL1Ej2H6uPU8znEk6D1GdmEdiKaT+o2M0r4W\n",
       "GjMkZTyGXYyNV10xdC4SvH9Y9xqnj+wqeSMLvcqz8j3qCJZvil4cjd3ciUKmzGT9Q+BWc+zEdXQy\n",
       "2400PNLrK2BgM+JawhEOg70Nqae7J/1HYm+LaxLqxIQQhKsmS/nDM2eAg0Y8cSt9NPa8NEzgfxI/\n",
       "mw+BXaIxKCy0qfk2+exZr66KVHMMJ4BPl7+wYSMU9w40hkpuH5NVCXtznWdE4nK0MGM3HpOnQ1C/\n",
       "H10vs1K1d5F0kZkqy1Rxp2RD/ExC54H0WGG0Yk4oseTYSJv8oZ7Umj2xO5YmHS6JGBGhS1LklQmx\n",
       "PXVbRBaVJgBt2QAVFLJ80AOOe/QHMNS9naHQLpJinb2zaM/RPNvNh+CpGlozQT9VuDcu7pYL41rS\n",
       "+5RR8kYsgUMuK7pLBYQmNFQa7hu9WY73auMNTR4faanJSnBvBhiNk9WB7Mw+24gWB2MLRsu2R9c2\n",
       "dcLfOLuAWxjoc5wNZcZzLs1DkzNTZemQ5q/wCI2LWTe8UxcLwG0wZ+ESecykjBl7cAin2JBKk9B/\n",
       "392D+iPM0a9FIUDqdSM2JnmIKaF+SDeHOMM7XPSBAoo2rzKVlNZyztKSgztRBofbdEtY6IrjyCtn\n",
       "mmZQnpCJCn02HPkyRL1nthyCF5fTl2SOC4TuMnWAWes28MtDJCDUhADeVK/kAsF7UmGvcrwucKFz\n",
       "8GExapcTu8gskgPCYPzzN6/cjOoTBWr2e0XffLn0EQzR0XKK2komKPHoG+BgnY/ZcZQM55bLTuS+\n",
       "lzCc+m5OAEVFK/7yZEguP6BEHjlCJt8KoiPplqtubvmK+RzEk73OycTfp6+XVKt1kqz4wir6UHvP\n",
       "LL4o70kHRCtnGHuDs5yf6JDKuOPqHH7Hm0bJpg9rwEBA3CCUb4+aZR8yf8vhcn3jYwryTv5SOTqW\n",
       "5R0sJmIx8Cmc92UmG2NW/v/dTr6+BCa3y3zXrS56wc/BYK0dXpNb4cLH4pRHw1u05nqZZ7orCN5B\n",
       "B/74iNNOgMKM3rSzxhoI6yDJYA9/tYU/bde0i+nKNatqSIdVMMOOt7ZPM//qkAn9GUNuC9jFgb7X\n",
       "RLR1oGoVeWHc/Vr0fdv4vcm4aMXqlNXBOG/2toZrposL0Ct10iEgQwx5rzedy4mxTJFLVX0weCWX\n",
       "vqWECVJF5zZYn6NW10y6jRlNRs6KmA4xQb0sWFcfCnkOFPvDe5RDMt0HmjRIgXKPdkRpKjmyHyud\n",
       "EgmJKvMhhcFAToipYhupikDggGxocwvlPlyEVZ9rXilyeJ1Un+KnDRziwwU2mihVZCcxtLAVYlzK\n",
       "3QYMa3qzDQI500Zzth9+iZ61innpu+h/lAn/a9QgMbxw7nj2FLmJ8GUvTjpln1mAUhmmZDktlBy6\n",
       "vjSi3snrzSrmjcxeWyeP+Sgcn0+0QjVVoQjIeOeUQdj3Cx57uHUoSWa07CFDBoUczt5nh66Z2qkY\n",
       "fKSsK71A6lCIMRWzWGHpdTgW8V8w5g4sD9/+b/gMvvcIL6xlm/P5x3tFKNS9eXPIBTFZXORwtJlk\n",
       "EYl/gb1a1W20cYboeLrDnLb5XyQZT+mGKmMypfycI1YAcPYBnUTAB6g8O1lamdXwushZfyglB0ld\n",
       "xtBZoRYEV9y7HlJm20dsUGhBxEqFE90jZOhaqS/4MpB/WaBrfQ+nVO4n3i7BmCEFeC/xamnB5hOu\n",
       "0jnckrHYWrUJAFYOCk9+LxRy8qbrVavrTbezFxiSObxNxx5s8mUORpuZmROunpmwsTTEf0Z8F67I\n",
       "Mx75nbLIavk32uE8STJIvmexqF8no8WwdKWPq03Y1nco+DpAhKXMF/eo/RBacaI0b/3JZ7++tgB6\n",
       "Ortk8Hq9eGDbO4ueqMpuVjrxGUTBrT/mij+A/67ITuUwNPJsd/vqdc4fO3DaRFY5h7diawKF+RbP\n",
       "Wk4tzCElpiRN8F3ZwRBwQKyHcNpaNcIQAXGrRtMfWlwmcoHKK3RoZef0zab5aw/YK/C4IGbOCAI6\n",
       "UmEjqMgoM192l1S5HocCBpEHm/KCzkyMRaz6Pf0TUBZuwVVg6dDRuzkyquB9iy3v2907JwLD5QYY\n",
       "6LcMTlaXKk4YrkHEQO88UX+XH3AQyLwIDbQd1GeO+ofY+NfkoAdFd0DvbbvxhMN4mjjeuZY7o7Nk\n",
       "mNIso2Xur3UV9V1CdZFvVvBiJjohTg6T++Mzaj3h/HMs4Hpd0ikexwCgAkzYGiWKIuqeiZ+J3Pf9\n",
       "KbSzEgr4oI6PL5A3p7Ad8VbrsLTE8zJ88t4XeuKhPHIj3bs2ZAzGqf1X71IgrZ0o7osliPVcxrmE\n",
       "F6EX/AEeUNYC4wRFXHls2Ni9cHf7mgsj0CCbOwEGlG8TLLPlf4R6xOxDaB1TaIVZ1wYPREhTX18Z\n",
       "Oem9oXK3iQq8dMKE5Wfr7LyefPYWVoZvk74zsaDvAuk7izPsG10Zlyt7GWV3yWvhFKhs+iVimsGX\n",
       "NSugXIRd+h9mcnGHOqbG6sPojPLYw1ELPqcwijoDhTDQUQu2WsjHbzrTdZl0YLfyZoemU78N0VLQ\n",
       "oRTOb6JP9Z1EqG9z6qEehOh20lXy7O4ZckeciJXEABKgFtEAAAC1QZojbEN//qeEAV34BwTqQBad\n",
       "ofVX/T7Ov097JJmEffYh89akC/TJuxoJh7/y1Rjgo6yQeouvZ2WyISetDHUg31XrrtaN/6EyieN6\n",
       "44Zyq0S/cQWbvzQ0oLEaI6fyRgX2GwG23whg6/AGmohNQYVTBbLAxKBKwe+KG/OiDr6Ma+9MOeI7\n",
       "tTF/aThYP99CN3fIxYXHPYVbapEhvMK+fYAi3/fbFJk50H9dUajnNlcWN2PhxiHIWAAAACpBnkF4\n",
       "hX8BFpCchoOS5ng+GSwekRp33URoN+SmirYTz82/UzOa3q5mFUUAAAAWAZ5iakJ/AU+3WnVOacdj\n",
       "sZx8dbAgZAAAAQpBmmZJqEFomUwIb//+p4QBUCOOgA4uvK/xnAwti+so1lLpl2ylyV5YcqWqCKtq\n",
       "lCe0+c2IQMz4NQ8/2p4JD3jsh4iaxTVpMw+RB+H+heNUnn5qOvrjJ5k1M16exluORNAMbKnVZ2EL\n",
       "C37xZtGbFT5lzzG0DO1zb1fDE1SAiH6waqC4ygIINBIjzICbSWfSJ+8nWRmxWLsi7n05DBKHTa8K\n",
       "2Iaq6J+zyRVrLHRqFT4IvwByjAoi9sY2CwL1Jnl690aTWui98RFo90lkKLWz7jqG8fJLtSSCEjMq\n",
       "5CZ/DfnoKq8Q6m61l+v9NsR8n1lt+D3dauIqVULuuWLg/juJtSVVR0oAm9qmo5uc+QAAAC9BnoRF\n",
       "ESwr/wIzYZ9bL7UNo1sGYSFrYnZLwqhPd9QP1yqHk6lLgQ+I2hBKs7JyNQAAAC0BnqVqQn8AXS4C\n",
       "C4lu0Drrrpr3/ACFHSpnV1tVIcZQFK5Wg8z2f5I3DRrEEwUAAACbQZqoSahBbJlMFEw3//6nhAFS\n",
       "QPPJAEd9SkmtC4DL5afkDBftqGRzfjuK7cSE5N10OWL/eIRxDSUjp+xkXu2FKnrp2BGtfGGBQDtQ\n",
       "5/9Ju+eywaMEMDRuED8CiFfSFHNRj06nkX5qgJ9fIc1Jx3VLcNks/cgYUzDIP18l7iT7kMScH5Jr\n",
       "c5Epuzw73UoKvfP6aNc/7RPp4tHEKMEAAAAwAZ7HakJ/As97yc0m61u/zed2FHW7nPLLMBSOsmza\n",
       "vNMdJuAQ/SXWrN+6hTG4vxgwAAAA7EGazEnhClJlMCG//qeEAVH41gAIbWGHrDJddbL6oY68Bcga\n",
       "mYWrsxPayAqeOeMnd70eJJWLjh9YuTpQlbXnLiAnA3xT9AMuCzys4ZQ3WRIdkcJN8sfa9HmoRWrB\n",
       "6bvZ950EQg6NlJDi4kGCIeJrEAC/TJrTNbAqsOYTqkkh1VsPIVuSYIzOfO34a07N7TbxVMvjDYRV\n",
       "kbJf2x56i7Tf2WhuOPAzYVjyrEVR2iej7Nl9YIM61SeKwrxCurNm3CxL6udEiXeRvw2mLbwwTRn4\n",
       "hntkOOU8FdtPnuDewva5WR3lIUc1tQX5XeA5CyeAAAAAfEGe6kU0TCv/AjMmGuXjLVK8EihEprZL\n",
       "EVb+l/nLzMc922ADuHquRSTcML4mOuskkVVEQjawrwGMmyBVuWU4XrFVxP1iFtnnc6tfw8psR1ug\n",
       "+1t+3OMs6e0Hy33LD5a3BZL+uwruYr/a9X9V+g007bXBalQoVKWuJ4LcXsEAAAA5AZ8JdEJ/AF0R\n",
       "jtDIPfapQoPluUb/3856ABEDASmjb79l0+Lz+Y2X5bMfcK8nPFMf0S7cP/95TxZAAAAAPwGfC2pC\n",
       "fwBa5Lgh5+QbMKSW29lBP9+P2StZbjoAAf+PMyWdoMWr4LlFNZftm2XkD6owOhn6Ewy9Jx+Wr4J+\n",
       "4AAAAMpBmw5JqEFomUwU8N/+p4QBUfllGAEdIISrTyOqb3Z4zbd+ufFDHKMDNMm1RPrsP7MaFmcC\n",
       "P2oIAoJgeLQ3qsQqs0vmkKE9iD9nMPZTZUYjOTnf9kyyERkx+ZdnEJskH/a5qWg0kmVk/LnO/JUL\n",
       "9Ke5qq9GGByjoHoNoura3L+0+Uocw1YzGI8Y3prWUd8/8JgoCd1FtjIRNBoC3SJaRDKUqy1Kq+XN\n",
       "3ZAm1GUKzL8/ucMnTVuXKnJTkv3Ye+0+7HwqbLqlFbmOV2/dAAAAQQGfLWpCfwLPe8Hw4x1w+H5P\n",
       "k89MLR7AAJP8DymT7y8GYZUdUn+dQxvGjxppuARYfRC2CEVssnDWKH8U+yIEK9BvAAABBkGbMknh\n",
       "ClJlMCG//qeEAVHszrgCO+0dgj5IsmrEpm/9g+P5JFP0SdGSr8ewDRNBksjHemnX/Hj3FwnEF/xE\n",
       "Lkov06IQU8aso9P8xu5R1hw4dCf+cClMdJA9tItwNfhfM3jwC6GCwla4Tb4sxYM8gehzbcClvb28\n",
       "2ktTCtv0kqIA8v3ndZS7Je2u8yA7PaWpctB7bHScBxQilSIemXVdLLX/Wu8ijxcKgi8hqaHScbzQ\n",
       "+kRMZ/+E2jf1suZhmiOGWALAjLE0f1h5gaw8wXJ9tilxI5JenyJ63+F63xRPBoKaKl3ldmPWzJiA\n",
       "VM7jnP55gjEwId/dZ1WvTDtLRxHLhRW5I9mTJFkAAACDQZ9QRTRMK/8CMyYa5dkz4AgNKk5zBz7w\n",
       "jmu4daBgJaCXFjxvBRUcwDAWRngk4lU1toKBJePvsQffcYuvHrnMgy03D5ZVlN6LnVzeO/kPvh3k\n",
       "FWHUJKMxzRqwx0plF1tT1BZoUy8t0U/+PCQozLQ+FdGw272hwGrW4xSoz0ZFumkGDJQAAABmAZ9v\n",
       "dEJ/AFi08TQSnT3AEEFNaF5LPFyq8/FDgEKlwp5qQb7/3fsZVl6I8uAEX5GZylRQi8oFb14ZGg3F\n",
       "wMxBPKLxQi6KFC19kDjb+BcHhOX+bqMdhEl5QLx7InKsufawAiR3ImWAAAAAPAGfcWpCfwBaxKfF\n",
       "C40L/dq6lfBh5TyJ4wswwAfMRFHpDHTD9mOidl7bm9eNxxVXZXpcz5G2PR77m/cTgQAAAOJBm3ZJ\n",
       "qEFomUwIb//+p4QBUfqExIAV9lbGjwmna/tw9V3CzUZthDwoxqOUGMbRW0BowFmnxtWXY4/tC/tT\n",
       "SwkGglQqbeI/AeVYJ7Cy78tlpi9rAV/PtWOzTkO1vhhjnjEV5xAgowt8D68XYKi54DHWEwSdGpAT\n",
       "O/CVTEqIe1tYUNS/GYM03vxky+q5SLk8tnCHZXOFovvtxSU+eQMygVoIALlUs7V09dKCfG73NP1S\n",
       "nWqaBZTRfbXSwaHUkWj1eYLDZgk5Zo/XtssCrtc2K7+v48xiNm/qksM3/3yod2NNx3OwAAAAdUGf\n",
       "lEURLCv/AjNhmuXY3z3pymMwAd6HXkuWO+BsU9uJomrj2k2txH5cV5TD2ZUOuWKLKIZnvM4ZFWUc\n",
       "VMTYQ4PJ9wzdutqIWrr4JfXEYzjlEPJBYKCUxGNEhYG09zEEaFIhvymPMyawHCpry1aSsM8psBS3\n",
       "mAAAAEgBn7N0Qn8AWsMbjAIsuLPmYIE1nHX1FTGi7enKltsh+vEZWaQ07VkePy27YW8R+jM5FvQg\n",
       "AD9+gpd4tF3YEvJ2YXRneX/3NtcAAABgAZ+1akJ/ALEJT41e4zBSbaV1lVSIMd5sxLDFmoBErr2H\n",
       "Vcrw9+L8zxvpAxUITStffbNVJL9KSj1kvNWXwQF48SSjIYpEe7vWvplVWXe4dKgAULWxWcCOri7D\n",
       "3GLMcOlfAAABB0GbukmoQWyZTAhv//6nhAFPxcorB5LROsmgBxhz4D/T6VA/nnJBY4bDuhVovvlK\n",
       "YXfU442cU7EV2zgYkOptrtq3OVDq7+kFJfrHhi3DetxsSpgoDk72ZPd5tUb+dqFLhFeqCjmw2Yb+\n",
       "8anhVUvottKHQ3Zzw9HXjutJ79wWBE1M7cBLthWujyDQNHOSMOGoJsrtuFWLdUOHQiWWXH8YAdoO\n",
       "D4e7uZcoirXuLyVnsyupYpCQRYlvl4X+yxuTTuK+XUldDCCNiFolt/9XfuBrMFQDfz7MRCBu3YIg\n",
       "jTuT8t/xP4GWdFC4Vl8TUAAoTJKUrKi15mZ1jKGka3tCq4Cd/+1jUIzkv66JAAAAX0Gf2EUVLCv/\n",
       "AjNhmucQRRNS3i6aK4zTxNMAIwwFYIJknAwlews7/lCYJbpbm6UxF7ToTqpkT7fKtvtneV32ssB0\n",
       "6Y3aWYQN8/9mMekbJ2hhFyrsj1BQV5+o/xkMtCsxAAAAWAGf93RCfwCxCU+NYNX9/nWaM+rz6I/Z\n",
       "a5gigJY+3csAJD59tzW7ZLMVqxBbtP3qDqMK+1je7eOxT0HGqBJctdkqlGpEOtUv6WxIhEihZPyt\n",
       "pa74y0UU8dAAAAB0AZ/5akJ/ALXIq8iP397M1rPFSChlRa2W8fyqVDPZqfCXuU2GqgBWqMLIjbnT\n",
       "8/pitlQQhG2bPQZU0VEcSprWkoKAnmqh1gOP16e+KqhK8sCzAw7h7CI5LFZ9X0quOOMMbHbpkyls\n",
       "2773wvoiGtuDDDZQi4EAAAD6QZv8SahBbJlMFEw3//6nhAFQqKPgBF7MxXNFFJAHtfDCirqcxaCA\n",
       "1irYDSvk6PoR00PxhrKzrjZ8BWoODYlQw7uWVkg7GSGbTRHG/QK8U3EUhDTgCa3sgRHlKbNit7u1\n",
       "xzuh8LxLs0iHFIVOsvLKOAUsT/5oZOfTEu8Cie/4IOAOBI3WBpFi0vtq5KF5l5hO7qhHx6jyf53J\n",
       "WWkGXK3QLq4sqJyttOCPM9GGkXNWMet/8eVez/9h2Y44oqOQo9jJq+mhmz+2PHCSxdUnDn4bjZFl\n",
       "mXI51nHFPpwE9VGhg6imjdJQ7++jL2gmpmGsY2XP9PYEsa1U2enlQAAAAHgBnhtqQn8Cz3vEfu6y\n",
       "/6NVs6O37Wymv2c/zS3yTbAOedWZLAB3YUNNh1iPdQcyaRV0itYvpWTVT66IATZMlsOELtXLKia6\n",
       "rXueABemCoFwPLtkNJ7wocnPC78alsgd2vAcG66DbzZenJ4iclKNZOy0+oowZ9kFZcEAAAECQZoA\n",
       "SeEKUmUwIb/+p4QBT8XLN7o/DOXADjDm5i2SeXh1qfkjQdHq/CcQt756P9vsQ9KtmTo9ZCiJ+OR6\n",
       "+gMb1WALFGhmg297KITP+gs+oUkSShwf7V7w/ca4GiQWWJzT9OFZ1VAkZYm6Htp5GOeBAqEnjlC6\n",
       "LOZP+cSRlxJ8KXZZWWe/YoQpJC1FYLqq34yktzmNHghw0Vpcv3HzDBi2nP+UWF0OsWF4m/5Rv4gz\n",
       "J+ZGdCRbUeMUKQsRYwtSXv+fYB2USYEOSLhKaWIHIoWJOAcihuWM+yxjCaLnZJxjLtWsFWw3lPQP\n",
       "qBM5XlyClFiFCBM9ajW5HHOlIwx/lc2becqpAAAAX0GePkU0TCv/AjMmGtd/ln9iS6pL4o0it1ou\n",
       "Jso4WpLN/ACMUNMg6z8i7YlVJSBLlEPTjIkQ0pybXS9dPt/zm76A/y+IZsEsXjDb9Tg+UkQQ7Fkr\n",
       "dL2EJikd0fSR9jCAAAAAbwGeXXRCfwC1oxrxucem4Ch2zgxgDlwLC9ZptejpiACT+fkCy04cjt7P\n",
       "2qPxVCooWZ8aNps/DaDKAkhjEC3pO2fL0Gld/OiDB2w0/pT+QZJO8hvAbEiDIYHms3RK8kj3MQCq\n",
       "y8dj/kSWJbuIZApNGgAAAHEBnl9qQn8AsVXToPUMsmnOAAlE/i6DbYuYHjYQsqfCKXKHcZMha5SC\n",
       "twkW2URtRgCR8J9LFrvdv79FGiC1sHiscJVlZn8GPjh31TDQDURhrT7PlwZPxAeTkbcc20/bwMqO\n",
       "2URu66WEGrTlceZUs6r/LQAAARxBmkRJqEFomUwIb//+p4QBT8XNBu/UPhACL8ZKYZbDrGX9CVHS\n",
       "Kk2H/zNVtMBNkSBYj7cdCLsDh3PyjneLOOzJq5geas/Mad+fesNjPXoa9MQLgET0n9RDoOtIbuKW\n",
       "d8j8687hHY32AmY6OBYLlK5FDEmclncXNN0dPtsdGkxx0CLThk/MtMRkHPt+axZpXPXe165/Z4Qq\n",
       "44ML0h0lsShdJKrKrAjI0QWyFH5zLOxTHYR4ezY30CpmzkIzrREDWgWqU/S/nyY8a9xolpvy9erW\n",
       "8TOqkbVo6v8mcpJdd3nRVTQr0Qm417UeceesvUchlQ1yaAk5gnpZOKeVH8DM13gx6J++fPXiU2Mt\n",
       "oXzBo3GtAo6IYXhsxgBzViVA2AAAAHdBnmJFESwr/wIzYZrntTrP2XuqAI0AKtko7eEVgM/rPJz3\n",
       "DIUk9Ua1Gd8I4kHEXqw8fN3nz8D+WhvpddUVJgKEY5728nj+KNHjuXQqGOdIEROw3D+TfIGlhmrk\n",
       "IM3fP0zAxGY9G/bs6kSXcfOq7hFS4fNvNHRsQQAAAF4BnoF0Qn8AWs3ZzzkwjQ/SnRnHgsJ5a7C6\n",
       "74AAlFCTaPaJb6BkL/RlBYh+ztrbtyaCf9CMwIwunS6w1A+tUoNh/oapw/SBOhK3Ju9xJzmgcbxn\n",
       "Tq/jDHCxm9achb1MAAAAWwGeg2pCfwCwIMabTXlY3ebEdXc9fusFHuGULv7+C9AAZ71sYnuPv8Q6\n",
       "7betkmPBijvUHk3GleOuy0HM2WQ+xm++OwYIUnWoJ+ND8vW06KJzFozl4wWgS4nDwyEAAAD6QZqI\n",
       "SahBbJlMCGf//p4QBRRXSSKPHsOAOS+D47BS/gfDULxfn89cnie/nC/EpjKSmQaVkZT07/mnTv1i\n",
       "FzPlhtw4N7SbWQKz5yO3hDOoUqurqHceueFM+yEmI+ctTpTZJTTAIeJQopmCUVdQoTP101KIsmKg\n",
       "8BgmEf9Z6x5EExMeFVOZyN4+Lx8pdFxw9OMhcGBxOQKH0+cAg4J6odRThcwR752PcjGSPgmAwgO0\n",
       "OOwUL41jACs/KBJBetkqf+KgHx+U1EpJelEgsLqScIUMPqWo48RUjFhNxKR7CA7XLTQmjxrvbLzg\n",
       "HMvw4CBPHTriX3yBBg4OXdg5DQAAAI1BnqZFFSwr/wIzYZq/rFJHYPf/0AKs6LBV9BrdbebY1AgD\n",
       "mXTX1A8D2dk4tUDxLR0jEMie7UIFV4cQ0Gtq70kkXRhzLAW7ocAXbCzMq9S3/Hr1LfV6/4SxRoX1\n",
       "kWFfr+fkpY35jMVpN3TI09EuGSllgrgf7JKvybGDGSRFmV/rjelYpO5g45VxuZMvLUkAAABlAZ7F\n",
       "dEJ/AK7uo+oRYgA++ykBTZJeCxjtyFLFGapgM2ZkrapMmPq9dKMyhf7dtA9d86nXeXmL9NLUkpVo\n",
       "MJUjx8m64rxB49H/lIY6yICraFmW7e3pPn5JcMBc9oA8Q13mHSrsFIEAAABhAZ7HakJ/ALWzOGoY\n",
       "/YlLwnDH4+DEVVCCWUAAlEdA9WfUg2A4tD5tNpqWclyTD6FpIsBqpuEedIQ1Pw0Bc/oFFWlbsjzn\n",
       "e2OYzUCK9YWi9DJaqziACo0jj/gcvcn0DsZuwAAAAMZBmspJqEFsmUwUTDP//p4QBRxxRbAA6A2Q\n",
       "epGyRQWmLRYGhI7Bm206fvxiZ2EBzrnm//DQ9Pw3ArRen5vLPDTB5X4c5BpUYRrh0yJcUMl/LXon\n",
       "E7vewkqA2Bzq2Bo0WwVP0g+WxLDztgzl7OjjtdHxDf++WU5BUS6Ks1rLLzm40W42KuAkK+ccrKwT\n",
       "+oWsNq9gIgbOW8+LMIZgforp0ls7P3vHr9QHweuBT+f0RU552Zy8oNv3RycOZo/d5wkPeyxHhzO7\n",
       "fUwAAABpAZ7pakJ/As97xIBtsk7pB5Y/UCBGkiM1vQ+xd6+e/4bgIAJSSCmpgK/LZAP3PesJUxu5\n",
       "jjFyRA8af1ty25RrE1mGGRtRd81qfILrV/bfyK62f1+xppO55CZ4NAyqsaHH7aY00vaZnvSBAAAA\n",
       "uUGa60nhClJlMCGf/p4QBRxruOAHBSjNTTCeA+eB8LiAGjDMYA4vsHIjeETsMXhRVUwjmGLwfe99\n",
       "P8Rr7JA30vSZWHnb7D+jPRP9eksdqWsI8M4D7TamzEBM07qZuZY7G1F/BQN5HbP7ZDs6QWHRhJwy\n",
       "9IeSYwGOAk57aU1s060Oxwm84rY2GjR5LmYFHnssVZ18Y1nCO37SND5kWb2/8OvjoLtN21nNL2V5\n",
       "8fLSv0UjBeBxawxgnJWoAAAAu0GbDUnhDomUwU0TDP/+nhAFHHCX2wBHM9kxdDeuVuBkkuldi0zO\n",
       "2Y6jf/I4BGisj1N5Pa8ik5uKiuBfbps0IreEXJQBASgi1Ng8rvwSf74qJW6/2alTO5V4MrECoHwo\n",
       "NFq/fR8kzxMCuPM2GiAK0F3P/2xg1xPpKstH39Bj1C7FosAS9PI3VzL9IvXElS9a5nqzNKgkK8iS\n",
       "D8Q1VBNnk/1xYpw8pJ4Nv7fLMgx/PAnxivDOyFUyQ77Syu0AAAB5AZ8sakJ/AsRO/RKuQn+qcHc/\n",
       "/4vV4StgyImBQADvDHsrrDduY/TKm4U/PUQjmilRnd7AFp3d66Qja8K3XdkWyRrZjBbk7gZWL7vU\n",
       "3SV3u5iGU1wxYA0HUKl0mIg/7xBBzGBdf/JLi/zl6b66a2w/Q04ltgM+1iffMQAAAM9Bmy5J4Q8m\n",
       "UwIb//6nhAFR+sVQAFN7EcMw5+nII28xvV3f/Xyfa0lZfoGUgi1yXdLUNkp3U16kvB8HSPnmbFQD\n",
       "DAvucpISZ0P2p6l65BQQQdaSS80IqLruMs5d8zm0K7vgS3GBOQHvEutb5eYPN7i0KfwWaJ1c6G/2\n",
       "y05pVc/wZ6FizI1aaZo3KZGt6fNxIP8tMVdCqQ4bk5HIS6KGSomETgRURRuvMYEoypbwIpbl2R1n\n",
       "wOyAFvN1dBTg+fQarGmUglXtmFj5jraX+ZSNI0EAAAEHQZtRSeEPJlMCG//+p4QBUqnijBKIAWBJ\n",
       "6yEsjAqDq3bevAfYDnfQPTI9zdhEI3hiDJE7hls4St2DW7mpOs0gvYIctHr1+mjMbwyDewoS7gyK\n",
       "D/CV28XJ+syXr7nXNITYWvEAU7IWHVhhx3BqK46T4aCLRz4jvQi2OOVNq3wceJcOF9TkIbO7Xp6h\n",
       "xyDPlSg/4PNAeJbTKy3HC4zOBCaGfLQE0RiMOch9P/XGxUOXXmdxBVh/+ntNEfXSMHWm1CpMPf+6\n",
       "MldghFblzZg+a6TFUgkdzHOvmTNeUWTzAIF7z/Dos1uYRmTjxiSroEervU2D9FZxdZ24hvVrPklQ\n",
       "1D62YhamZTwMyrkAAABzQZ9vRRE8K/8CKZ37MDrAefFDSH/Jq/6zBbhloCoOfB8TWBeqqefrJbOA\n",
       "BXMp9WQkoZRlRdW+H5Jcl3aQZf9X9WMP33wSnHYzK9RpVAx7QCYzCNFx2FiApIE9sJ51NyKEz3Vj\n",
       "NwxjTi1aiW7Np3tOl1E5GAAAAGkBn5BqQn8AsQkyuPbzMZ5DuWADvRjRUZ4yAzI39JcMD8oKKsJE\n",
       "MEARx2jtH9lflS8lSyZfa5XVTBeXkAyuAX2ZEZLQGbK6+mQ1CugaSTN81KQ0J2lHZhH3jq75Jitv\n",
       "qzewCRp3jQNhaJYAAADVQZuUSahBaJlMCGf//p4QBRxCbpIA5Sd0DvaDrnlow1o3+0NyxQHkaTT4\n",
       "r77gsgApqrlLHL35i2pNhDl7GP48TkGNwjeA7Yfa/un+C7SghQN/91o4QRR2sB5A2hNKGqXCBKg6\n",
       "ZD3AaDa522unUD5zcr9SxViuO2sXQqSdpnnShvGfMNEoci0OBD5HVasaeTEKE/tvpikP7nxYz7e5\n",
       "G4Bh3ThYHP5D6JU0cFSL+UvVjGWAaLCf1D8Ln/CcmQDLKyoDyO4DQJ7BJ0meyVuU8bWp5d2LLVNZ\n",
       "AAAAekGfskURLCv/AjNhmr++RATauiDlPBGHJFd1PAqkgBIiWTdkyQONW9UV9uPucZqgpVV9FjqE\n",
       "eFaNGL0FYiCtonloCR7jK9y4peMNjGc49a507AJcn3jeeHR03DUVQWlG0IE4e9fDtezX3E4JQwm7\n",
       "G96aS4emLQ5l5lw8AAAAXgGf02pCfwLO8YpSgwbzFbBbe4XU1BF9ezOrOkRQAD14gWbTKT6COBxk\n",
       "7401yerl0LRBFxiA2wJFq28WjPzYQMJXS82OyZCGxN1sLEt5ST+JvhrIlLDxpE1/PW62IaYAAADE\n",
       "QZvXSahBbJlMCGf//p4QGV2O/O3FgywB0SOsbDPE0ok2zGMi15r7W1jz9jvdJJLdqST1v0edXmlF\n",
       "Htyh4oo6Gj/+w/yvG3cGPWr2qSSrvD6bSpdFBQ/vDeZu2HfFssbklu1bsHheupI3CLBzh5ZS4koc\n",
       "+scoNh3168c8ENH7tTUTKxqpqV8Pwtt54iD2rhKLjdi+/u4VruVh8AnVFCPewz3PuoWOU+4AxSJk\n",
       "aAx44K3tdRhcPQc44pe4rgoGz9yZMCF3wQAAAH9Bn/VFFSwr/wIzYZq/vYkgUS0dbzkGptxd1Xsf\n",
       "khFsACZk7JrzHap//HutD57lcFHnoUkHUkH4J120561wM3VRU1L2S5sjpgoKXL17vFMoVk2z77R2\n",
       "cpVoBV/dE4oTB2Yq9jMkBmeQCBQkFg6bLhMoZH497Um4Xho739yphjiAAAAAYQGeFmpCfwCs3A4X\n",
       "hll0aAM3bScUZYtTlsAB3Nc6mof3daM+QU2rmbU0i/rq9xi/kylQDD9rFEY2FPcyNsgrzeXBJHp3\n",
       "lvi0k/TibFtjysdZutMT/uJIiy8Wyk1AW0LG5EEAAACNQZoYSahBbJlMCGf//p4QBRf9nM3oAvBG\n",
       "DLYVeTxdld5NYot1fLE5BiJcNwf9ffO5ueXV261iMWzayEL7/ZOX5ahMoWP2F6O6NjojclrVBL+c\n",
       "Jbn/MOw4CwoU878gj7qay0IH/6lQ1B97cizdUg3qHzLnfe7PCJQxwA0n8zpLa4bOCBcnapGxbRrS\n",
       "hoDNAAAAmEGaOUnhClJlMCG//qeEAVAkXwA6Jd/q/nf+wAPmJWi6xSMFJpNPLyIYy1bqt92Fa6K8\n",
       "jXoCFeGHhfm85aCJUlGXghgSrepSFqJu0uDKWmIq4nbpSTgP3yth7/4mJCBUeFHoV35nmsCeNx7F\n",
       "xL4k3mwmLAfvvfIrrJV9hMf8XXGugbPvsNK7CKmJpC/T0zWKszy1E6g0qYrgAAAA70GaXUnhDomU\n",
       "wIZ//p4QBRVRIAAR81DbKcuTmd9yIvKBJakc4VZV0NQIiPYM5i9mGJv82wEq/oQJNpPuOdCY2jJB\n",
       "DcA5qAfQPOQg54Rgh103RsNmLytMKHvvkBqQDqiTThn6ExN7CorKzWOP20fLAuwvrENz2KEJvixm\n",
       "w+sST2EUVG8gGkU+ngYRsNtLp7I1H0rbuwERtcChrZysuhNgwGW3xU8GvsCQXQf5LNd1fu5PuHKP\n",
       "lKdl7jrIKUiMpzr+nQcSkz60DfcscsH0l5f2JewlMP8Hs/LaYLaSgIGthNJa4DZoZUGmNG1r+Qhb\n",
       "YDnBAAAAlUGee0URPCv/AjMmGr9u8DngmvY2X+lhZEJh1AAsApjL8L/nVb4B/jhOPQT/Fa/P5qE3\n",
       "2fhZQlF0BejqcLFtl/20qtpEgg0jROUOhB/KNACzw17wUeZCri8sTltdNjUcfavhc2rLxno9Yxlj\n",
       "QSijJLqLZqJ2f+wJyzVTwZnG4npWNOWl3qeOSd40yr4pq7bFz2QvQlR2AAAAYwGemnRCfwCxCQm5\n",
       "Bg5dUKp/M6haKAAk/ykju3jGAMLi4MFndK0EqwMAd1KCQnWItocdF2eVyKSIGTx2dmZHeWFz7Spm\n",
       "2XUEq+rc7zmYBCLCeNR+qE6pjMkzleYwEallLykbgQAAAF4BnpxqQn8ArNwOF4eXDmQORXNzzB4g\n",
       "A7kdR+zDrgL2N4XtCOnSQYoA5omn73EeAm3KXPZ7aCY0EXRm3UA1s8uESZsV+4xyMdzHPbs80m5U\n",
       "VC1AxDSxBlT4aACdQOGBAAAAsUGankmoQWiZTAhn//6eEAUV2L0AgT+xYs+k1ySYHiDxoN3k1DCA\n",
       "5CTZaLJ7YJdmckIXgiTYgvJaMmXXilBiB7BQNKT46vkhKjo1EKARdPFJxptRFZ7O4oXQHx50f80+\n",
       "U5J20ZBjIjFTFcLATapD+Aq7rKI12xzenV4Y3D5vTK+gHL8d55VM17xAyn47aKNvaLBhf+gZU6xO\n",
       "+hb0PUjjhPkyZ6BGWdcMh3NJ06NS1TD8GAAAALpBmr9J4QpSZTAhv/6nhAFQHtqANsoB6jECai9y\n",
       "+FaYSYQ0sGTwNWZXLMA9iuPcpchqiBfq6bppYfsDr7mBp9SaEwWKNZs2Pvt9etCXqHFDcwFi8ENq\n",
       "lqZVIeJDRpUYGfdT4KB/RbKZzjk8BYJ47tHPXmmUiC+5icg01aD+R7+TfXR8CT8E0QWPdsve1gIF\n",
       "VDJIkTLEaBSJ39ex74P3TDygYs6GDKZnvyTneCAJqP8coP7uowrkyBoVRHAAAAEpQZrDSeEOiZTA\n",
       "hv/+p4QBT8XW7iLQBG8R+zK1btUE0vDeOF47NR3sLdAEX7p3O2UIln+ahHjZcPYU39W40vnDQJ26\n",
       "hDxATOdTH55gwi/o5pzqVPHq5lG52dgXcNP1HQlvsZHWqSO48+1ldkqFRH27OyouN1CTGf/wo3ZO\n",
       "ux+VSqYX/SKw9Is+xJUuNq3QI7/XSMb5EUcEMEEdXKZYh6l3ytzxAHdkGm7CQDG7yn1UmZ5POF6r\n",
       "R6FKD8H7E8GRfl3RME3erQKXU7jDQVOvh/Dms7n0jzHU/Oy9AxtWj19odUm2ApYxKjFz95lEKPLB\n",
       "qRjifaoN4OIdfzJLUAwMDbHJkNKSMqtkjxkP4FDlmln8Ge8GVgJS/OLc5BsVHr1r2fDBWrnOyAH6\n",
       "fDGBAAAAmEGe4UURPCv/AjMmGr7THTsjukHQAkuipJxpoT8Gzx+o/Gw8qHSwF45nNOpBMHkpWidL\n",
       "WgQ/53YxYpzdmhQO7CgjV2mUKn8whysLGTg5H7zpiEnEx6uvAoW8ZBH+rNAcbvCIEppgo2iKZc2O\n",
       "btTOGCoYMtJ5MqFaolFNxUdFZVSpiU+kelara9MD1NzbSU1nbDUV50cw3GJAAAAAYQGfAHRCfwCs\n",
       "6eAfV70DtQw1sEAH4bZwsZ8o7rG7Qvux8CjjKkQWDkSgut8RLp7cjGypWKw+Zq7uV7qm5tH0gKgq\n",
       "ZiTYzJMhSFuO2l9JycvEUXxZLwf/VjFuJjk9fyedAnEAAAByAZ8CakJ/AKyzWzc+fQBVh8ABNNn8\n",
       "ESrbyX1dFTtEb9RLjvh0v2qS6PcQenEerqbY6mHnkbumis0qjRbjmBtlaLZHdh2IL4g8auFblCHD\n",
       "tQ/twZwXrbghB/40mCfPw3TM6efDngLo05OSHXwIzpNClqaAAAABKkGbB0moQWiZTAhn//6eEBld\n",
       "jvzto+J0Ach3qzS1ksi2V4b09D+fSusuUY2SY34h/vFexWFnDCNpwT7hOhjiDI2BacTVqPdn3xjE\n",
       "rGyrXCzGWCqkSCxwwQ9sU2eZSpnHQ77ZF/EH1A4E6SajIjFiRiroRa5HdEj1ES/SA6v5bMdmsQou\n",
       "ab+xU7V23hpdl4vuFydKvLr2AZcmTaX7PBZ6tVMzk1b73/9shJcbYBgsqrTaULf8zxFztf6m6Atk\n",
       "FoieP2abldyMHRO8K54Jq+sSdBRJRx6hd5yVGCoto7oVZhriH1ob2HLb/3aWiH0OgZg2FhhfubyB\n",
       "6vxaV6jvKoVhIxdpnRlZ8JgbscDPwBjg/gH79/ddtMzBOcueKGvmwyyOUD/O7zxAdxwMdPEAAAC4\n",
       "QZ8lRREsK/8CM2Garxs2homoET2P0vucAJC3lryPeIFbTZvLNqJqjeT70OTBIFmSSMTwpomO90ch\n",
       "js7C4uwsCUuj2bt3cgScWeabURtVg5By7fSBOyPDQGLlOYa9bsnnFyrzuWcwo3LygdsoKbiwpDX9\n",
       "RS5X78DSLUfc8cYDWHgV8bMFWMGnjysZKvxTLxthLz1melXtSBlMGSX7HuuKQQ1fn9R4n58Q1wGb\n",
       "gXpzQ8OKjj9WbHGStwAAAJABn0R0Qn8AVnTwNuaMpIACYu4yrVqxae8/7HzMoXzBleyfqt3NmWoL\n",
       "DbGmKMGGy6ORQaMvXpfXRnne4lkxhvc8jixH+RZhcGfaeTu7cAW613v7TE9pqzb5xL3Pc81ng0NW\n",
       "HxB3018FsYoYmGTI0Jib0z0avX2eLivhBVjrnh65CzDvVkYbcLeBW89ae5CtXUkAAACMAZ9GakJ/\n",
       "AKzcDjkFd/p5GkBJ+gAlDCE7Ff53iGpfn3Cd/bEYOn+X1bVnP8A7BBb9WWKANQiDoYHFtHZMUJsY\n",
       "BUaIDO5dgPfYIqA3F6u1Cqg+HLdtPkfgUDiWxDp7prXIPt/H/WEd1wFw0QawyqVEGuFY9Zb4Mdk8\n",
       "tP8KHLeX6nuxnp4SmUNqxcu0LTkAAAEBQZtJSahBbJlMFEwz//6eEAUU12745zwCYQkNtJdaYAga\n",
       "uEG0r9xWuhsTfhj7x9nkL8X5jBE5yi+fdnERz9BcUMOSVUfTp92u9N5JQp7LKDLrS2wNV/lRBjWx\n",
       "laKp4M4YTAx2lRTYBcBq8qB2bYij9++m1Bgirgem6fqCQ7KBTBjp4DY38jSPk8LIixoiKBYDNkcB\n",
       "m6tiwwKF2K4z9JbQUxb+RE7gQbMA+Ade6EJUU2fzv23xhvhmNiSQ6mYyeszw5bv5WJgKP6uPfb10\n",
       "4u4VONFyAUPeU+/GB47X/QOeUaYIyAVUiKeGbI8b2BQGPkYNDsb4z16jNNB2lu29eqyXAfgAAAB0\n",
       "AZ9oakJ/As97yUWesJrqOiqG++b5xOXLkvFJe/JRBPswnJoNbtsOA09s2ghrj+11r3rvG/PWyeR5\n",
       "3Pl/UF7M5lweh3+Pjz8qiwNTL/9mQf8YaSyaU42rNb0lyR8nqknaZAZCEFC6Gk6hv85No8aRtUWS\n",
       "BKAAAADtQZtrSeEKUmUwUsN//qeEAU/F2qiNABWZNKab3AuNYjbm3ADeMdigdjZ7JNplfqq9MJyp\n",
       "qnecWVjMrsvGEPAC6AOBVy2rsmzXvXIF+7WM6Tyi8GuDuCq7zd14reC9igxyvjR+RzPQH3PPjiDf\n",
       "WefhJvLP4qBLpurnniReKVDFrrL4Bl+J7W5Xq3Pi63zTgw8lP4V487tdZ6Q56X/+lax9rx5pTmBK\n",
       "YBQmWtrVkkXbEMo4xGAVIjw8kVUd/1bwFmr8FSPA53eIOYltf69ceiRCKeCjmo66gIURyNkPXlXM\n",
       "uLGGhGqIufgd9CK4ahuBAAAAdwGfimpCfwBYo1DYc40AtIOc5jzoIABKRd6qXN8lAE31fzVkn31J\n",
       "rGehV5B/w8s5cKvPv2ZHf2ScC3hr5xbfLfZCAdWUEcpLdnOdM4ww3+mL+m8XUV8U4c3RMZGNk3iZ\n",
       "/3Ph8jKz+waa3jLe1TO6TmKizwEqKrAUAAAAw0GbjUnhDomUwUTDf/6nhAFR+indwBy5FeOS37RX\n",
       "TV9LjlPRbuFx9flHhXSqGr5Wb5ejbySVxNdbFRW0K/vGO7XwU9CW/Qrf+8Fgvep0XX//uX40KrQK\n",
       "1tlwai2863zywg5PVvtRzBeiY5rJjfRbg+0rX+oWHGi9TGbFm1EE/LE4BDqOoKsFum9oi/yD5NwY\n",
       "zLd/3I9yGr5qVmiSnlywOWCZL6V77TcmNkAyFQxgWMp2qP6Yiw3id7XfKAGf0OJpSH85RgAAAFQB\n",
       "n6xqQn8AsUgt7HE3i94ateGh+L1cpVVR4ngRlQACELwOVhwg2MbypMwveSeL+CvS8Oe3OKu/24Qi\n",
       "qmRcUIoLlvfpwBguX2hF2Z9DdElLWjkn0jEAAADmQZuvSeEPJlMFPDf//qeEAVH6Ss6N1+scmuO6\n",
       "P3X+ANEz0+tyIG0yB7LgKMB2hkm2QSnZ/TpLARhHLHwjnk9HxbQk26zbHfXkQJ/V+RARF7l9yFnz\n",
       "zM+F87KmVNgPpHn1Q02wWIqtcZNF5mpTApFGptdERcpHqlPwS0tLFciERK/LnyULe857XeQfUX0f\n",
       "pvA7sTa53+UwdouNabaEFT5/RVuq1J/F3JBP8eWsO9LgqjkE0LpY4fBY7S4oQfiLAXWlHvoUDCLB\n",
       "yiXTXuExKJi2UHhvkplZd5ErQeAvaTY506TuI+k+6GEAAABgAZ/OakJ/ALFmZrZJUjd/+D6AXUAE\n",
       "pGrp0XADiPRrUfjkzyey4CD8XHO7BaYPC4dNMI+9RT8eJ1VFVO/9Hz4O8pI/+JVbHMLmhvMvEBt7\n",
       "57x4LCSps1nWdJNrvu1AHPOZAAABGUGb00nhDyZTAhv//qeEAVH6HC9AF/tKQkN4WobN3ZH3RDnQ\n",
       "x0HSXNVqRCA2XcpCP+FLNg2DX7xCwOyp5ata4KLGcDYI0QzXnUlFccwxV0Z0piu7NhN7B/oY3s7D\n",
       "/VK3AhItyBMJrUq+mxpbtUsBwosjiiGxEBHjebThfyZI/QCSITmGUrkYJ2RU3zWCNUMBScuPOGFf\n",
       "/yE5lvKqK3j6ktV/n6v6DTHtf6A9OPbOKzbEh8IxqvF4a8QsuubZ4kb2iac0hyrKHSgDM9qDCJLy\n",
       "L4YtGpyNqV54EXGq+gI14f+gPHeI23DGkHH2zsJdHEVYNF18DLP0fiBP8TKLUxKIvjCL6B4DB4FJ\n",
       "YtMfbU2dgywjsvzMr1d+3KSYAAAAaEGf8UURPCv/AIalsI7txvUbXQLJ2+ardQO0ZSbXc0M98iTx\n",
       "mrOaYgAhb16GH5ZCX7Y5SjpdziSZtLBwSq6wmLWykdg0TJ6TyWPcsFWkuFL+n9kJgp11swpKgk4F\n",
       "LL9Nbkw2fRBKiyUoAAAAVgGeEHRCfwBYkUVQKy+KfpyrJDyTQvlRflPHFWAN4ATCasNjFW5NaMBi\n",
       "D0RzmvMmo0A02bIKwqhc0MUIYog5Apu95tUt+cBiA0PAgrkKVsY6FsB2A3FxAAAAYgGeEmpCfwBW\n",
       "cyfWGlEMobocXYR9OqfThJTkAAAEn+W1yz3PoCQF6vqsLcjiKxjVZefaYjShUqPynTPZbM+UGOqh\n",
       "Qc1sCCOvpwYXxcuxfx6q8TUNnZ7KQoXe7nBZSYo8/VX5AAABJEGaF0moQWiZTAhn//6eEAUccCD7\n",
       "AIQxCXn+nbQMnP6ptn5T1ko9ZJGM5lZa44nGOelgpZBqn+ETXYsCItEEZDES+1hTiSBY9M1t3TPK\n",
       "SHIvWNT85MGXnAX5fqhwhE5JluW6YIgiyHc4jypiLr/XfOtM5LOLIQntnm9Z4G1HCRm61uLwje/2\n",
       "CpPsAuwUO0ea95kJdX+lKuuL4FqkK2vGDMQQuwU1ftYvsIKYiP7hYrAz41uM6kudGaWAHUJ+KmxV\n",
       "RqfzPMPl4Wa/qwa1zaXCv/Mefp3hZkOYbUl5VtmSJXLaMgCQfc2Rhj7s9oHWwqf5QKZ6ZeLbtqEd\n",
       "lWDxj+ukr2Fty3Qz42q8Lskm5bx7j2u+XYRhnFO/XfUnAz9+CgQvYIOgaGAAAACIQZ41RREsK/8A\n",
       "hoKuDy5R451cayKfTqAArmTmsk7qMaoXPt2861DeySuej8hfx045GXMkkYuV9oqKuLsXoHd112nZ\n",
       "tS/VpHiTMZ24O+L2hF01TjOUT6ZIqyviobxmRnCp9uON0eOVa9Tii7uajB5HP5AF69eKjQnwUULW\n",
       "wSsIlnKDSrL8PZ9PGQAAAGEBnlR0Qn8AVlfN4satKYcPTeaTrTmRlpu4ATGc71etn9eN2P1I3pvO\n",
       "KhhR4JW4ai71c9yNZ47Oq8n8ZuG59utpmWsqeD2dcTu+b92nBhQ+bZRw+AAROotN+VWIZAActlFk\n",
       "AAAAXgGeVmpCfwBWZDyQTFHoIxrK2WYwSOHk75cPIAH4E/ncWkUA2yx/rfFcLXCKnY5Puv9YZzE9\n",
       "VilfTQdst25abqroiii3rhEfJ0EYOlfUUeL0DtTFgZqFe9hK5sMFEU0AAAELQZpbSahBbJlMCF//\n",
       "/oywBTR+ejQBtsFq0qezH9jU2rX7cQlJPDbaEMZ4gqd2WoUekkV0UqoTLNoDUi2+FywcVvEjVUyZ\n",
       "h/rqZhIvo2ruC0BYAfAiIW5ODFYM3cfjFnQ5VXLQOq/OBUOPVq4bZoSEDAybZFGiNLz0+8be9BMU\n",
       "kKIKM2Z2Z6k1deGe3RNHGV7SxMg3C1ZQHj4eZznahQX2m/n46JvY78vg7OCdT/Iuk7jSi0RNGgZ+\n",
       "/bTu8486eACLVsMK3Q1QDtoyw6cRayElnqhqhSdGDLcKj2OG+l7GbQNB2LJWgJlu50OrwC2BO28A\n",
       "DEPvTA05MRdgTtjJpFIV5Qtzm9TgWf9zwo3BAAAAbEGeeUUVLCv/AP7YDQT5O1SsrTT93EAKstUs\n",
       "1lJl08/z2Ael8bIgy7IA5DitGqQ6PPiErV2n/NwIfDDiyvKqeCKOfct27m6KspGP6ta9BSNmngb9\n",
       "cIvJR4paQek4hKe6S5NKmbOedb8cFg2m8AAAAGQBnph0Qn8AVlgIIfpeAMha3t1rbKqfD3NrAAEC\n",
       "gpSG5fk/qrbwy5BR8kCGJUlqv9zeKEzPsS33MupdNmnOQnkrkedfl2jKl+lMOty1ylFuiKf2Zt5U\n",
       "p31g4HG+i+Ms+s92cYORAAAAWwGemmpCfwFPuAgwzJrh6IX9B+3TeD6fdLYAECg89UhZT7CFJhRp\n",
       "9oolOm12l6JJtGYyX4Bk24Sjy3ubTWqFVnQsZKtzrElxu7HjOcBIJqcMzgNb7x6HM9xEAvAAAACw\n",
       "QZqcSahBbJlMCGf//p4QBRxmbNxKKFDpBryYb1groAtWMvQudln3tMEJk9qwt1cg54sd10uqzFNl\n",
       "9dEtBpnOaxyFsHoRDvSjcpOdWuL8KhSv0Uht6VLOUCDFcTQHaRFJFnZqcfGixfOglZNebjsno/+T\n",
       "bY9hCuC8/uBkSg0WT8fAkwQpGuHnDIVMQpL/DBoY+rNGAAfp7NJhIhE6CyJTN56sNXPs0yvgSvzH\n",
       "BzKLEIEAAACTQZq9SeEKUmUwIZ/+nhACi66el9O5ZfJ5QBF/jTTfNQjQ3m1mCLB6N5eKn3ow3kSs\n",
       "hbiV3BuR/Le/g3+G8b/nG+tyXe2rriDqJtEMS2lfcSGmHy85dAU0x3ijKTqSaqsAqmPcTwo7/YX0\n",
       "5YnCX6YhUTDnA4BMi8BfEeiyR2ucd2uWSCS2Wr3Qg9EKaggbb2Xs7HftAAAAmkGa3knhDomUwIZ/\n",
       "/p4QBRRXph71mgSq/O4JompZ2AOaU+HTVPEogXMH8wjIxxLyhmgvPbonUYB9ksAi2+GEFYmXoEFB\n",
       "8sc5SDZCVl0s/JWWT+acbSHh+x3abDQKhc/UtlfLrT3iBlgN2RSV97At4kDQvtv4ivyQHrogQ+OK\n",
       "ZrV+mKCTQG4j6P4X15vPlFVqeJ+YdRYTqUH9VsAAAACPQZrgSeEPJlMFETwz//6eEAUV8DABQQmS\n",
       "DscA7ISYnfKz1+QMXvDCP/dlav1/b5eUw9jJJGiifzOURA21AotDnvJa7vznvI715S0DSFfliRts\n",
       "r9Ua/Nclq6EIXeQJszySKYLT2KIm4xCfaXW7vmA32Rv4MwKj7a47QiZcsCYiZVmRAxFd2YVlKYFW\n",
       "YDPzGAYAAABZAZ8fakJ/AArOaHJWCvai7gA/p74ywEfQqM/5V60JJdxNuT2JIRpNW6CjPiUL25Ta\n",
       "EBTvfWEEHbtz7/j77ti+6wHopMZDG6g5kt/jBxfzNCeFTxf4R4Ja32EAAACZQZsBSeEPJlMCGf/+\n",
       "nhACel6+AEYMdpBWWMUWs9YbEax/tAfmogTTzgsn/KKZq5iKlWQnwbVs9TvP3jTY+yKZNL/8zjnT\n",
       "lB8v5p6b5U3BTz3WNr/J4xy9z5U5Haj/jDmLUF5g7boqe8K+G/nniq/rMNt6y3pZgxZBqkHrlb1T\n",
       "BC4qf3OGfUdslR/6tQCdV3HNtKC2pwHRQgvAAAAAtUGbIknhDyZTAhn//p4QAouuSR2gCC5fXLh1\n",
       "mYc6a6s6xGRwfzwZMMq+KGtj1WF6o0k7bLcUkjkn3mAYe2muZX8bK5KCuj5YmqEz2qoR5q/6T/3m\n",
       "7RYIqaC9+WWtCsqKq/n+ZGnVIEmjaeToYBGy7GgGzhSd9h6AQ8ieOdtEaKZfODE6b2BSfIl+3ht/\n",
       "jbHoZNwcjWypJ+4GpO7bWvW6lgLalSV1c0q89EebMyGDST+HbWjxk/EAAACPQZtDSeEPJlMCG//+\n",
       "p4QBUffqOnoAUATjZGFBtcFaLmdOiOFRvGp46cc8rT9AT//9gEsZtt1gRdNrNpmmIMTf38NDoSfy\n",
       "ooFzO7NxxdDCBkmxcLksc4o9/3Wwdep51Y6MJGv6ro16Z4pQDjWkPmfdahJgbNZGqaR0ZUXeGXCK\n",
       "l/qtKFTaZAZEZ3v2uxlYraIAAADFQZtnSeEPJlMCGf/+nhACi8bk8AQN6h0jDbNdyJcWTyyhZrOq\n",
       "WYGMEzSuXAEj5GlzFfI3OocogbQN1IKAMsldu0ctsHy/yK7ehxssRNjW2bFsEuun7Df4zZADLTqy\n",
       "YLOjXE8a09UZnF56VpGV+gcIxNmDicxX7BNvUiBY37Ox4z09bhze14eWQa77VjVnzC8NubV7h8M2\n",
       "ZjnrSSZY/Z29Do2cIhFLUdU3DFUul25Qt0/JDcizqLzOxme466wmZe/gFfRb8kEAAABbQZ+FRRE8\n",
       "K/8AEFr/buDUUvZ/ksS2qQIdyysZ9Xx04m1ECnEySanvd1BDRtCa7RLwT+VaRdai9ZySt6iwJZPe\n",
       "WiPl//awAJpqylDYoTh3NZe2ObgDvS0ra2zHsQAAACcBn6R0Qn8AVlGObhQIzN45ccCVasIXbGIX\n",
       "fvecMBe1uQxfHfO3MkEAAABJAZ+makJ/AFZZonJ28hJRh103EAnMJkVYeyKcrvgsABKQCY2xSxHG\n",
       "A0wH2ap8yLb19twSjfK5aN3YHdEfLS/LKD10oOJrJlB54QAAAIZBm6lJqEFomUwU8M/+nhAACbMI\n",
       "gxsADjzANTLhE+H2u2IoBTCjHCAsssAWKNALACyZ0GNs8ol5ZMtgGEgAv36SZEIkE666P+smhYKt\n",
       "r7bDmCTdGpDG+lZrneZU2s6PjOr/5Dw0OTyE/fmFWiBETxjYeuAtuopetFP7iU/JjgK+sjuks5lA\n",
       "+AAAADkBn8hqQn8ABWfOAufR6/SwBBm3gWiulzvhryngzO6SFX+r2YIAIbBz6WjcYxRdZ0fk/C3s\n",
       "UByePPAAAACOQZvKSeEKUmUwIZ/+nhAAnwTOJ0wYXXWdE7sWQn6/sSzwI1AFE6v1Be2iM+XL34MR\n",
       "fNHXSO/COx3EpZoLUGXfNXYmnlxbc21IXk1TqDTqzqOYDS49dF/RhKAruwbVndegAxXgCutqRgZ8\n",
       "TZ9UagnE4ETqOsdDXysCeK1sytojMyGR1fOEZOOHvOR4AZISYQAAALJBm+xJ4Q6JlMFNEwz//p4Q\n",
       "Anpm5K8ZnbSYKnACLYZ5AqulUqPU0TRo7JzHBJuyIc0ysdoIc9Eej/YPSQXfhU0UV/BUf8p6Z61p\n",
       "ghiu8yKqK3nj4rCM9Q5s70xhVI6kmPgI1m1lWU1mSsB5ZVBNLPgwfbOMvr1eOaoU3H3fxFxQGrOH\n",
       "KXgIU8SKbFXAIWKiqDbpYKDRaA8uaa3Xh7aunCQuj+R0PaE/tE555NgR5mBzvjaiAAAAMgGeC2pC\n",
       "fwAFZts5nYDQ6Oc7lufQGmR2NbqIuj5bumgKL0sbyw8FwANDNczEzDh017vgAAAAskGaDknhDyZT\n",
       "BTwz//6eEAKOmYdz9JeW/kWlVE7JikQs6CdU51kYw8ANZ2+np/1jUoZMBEVtb5XQNQBv6ioI5mKO\n",
       "KKGeQlaAkAJtK9Acpi7r1nGDeB19FMcBAvE/j/t3/Z27Cx+JDGKhlJHa02WLeePhscCd1AuZhzbi\n",
       "6p4s+TKvoDB5+UG82P99Zz2hOXuWzseJY5faYYsEMazoDgnwl0cWX4OGnQU3yk7MPIcu2/4bZLkA\n",
       "AAAsAZ4takJ/AAqGd3IORTv0GT8pkQrGOunvT7lu2Rx4bByQAhPOzW2TgrcfTTEAAADKQZowSeEP\n",
       "JlMFPDf//qeEAVH5AjTlp1CIhKuh36r7fnptJPeiUhtcsOR0AweqrAI201U0JlOT4AjwkJEXJTqI\n",
       "TX/DQhAjwamIPTuxcK1j/Dm9edRDzcOlEZfk8DVh12ts6JDohRVCZJYOIMhuq5xi+IewCh3cuaih\n",
       "nCORtNLNRR1pu1pE9vVqGWmVcMqHpHtr52g2JOazQ5czSnxtn4bTAk8JbESlG8DRz35aTyuONx0C\n",
       "AIr5rGhN0xVy3/EMozFDqJmLYs5M6DgmwQAAABwBnk9qQn8AAqsrRIdKwPQqwq7yGPxAJiltc02m\n",
       "AAAAyUGaUUnhDyZTAhv//qeEAUcbVnQQEbfsjmJGUV8a4z+qnsqwrDrqUCqtcswKrOOtqRsuqe3C\n",
       "umX9m53WrMF/UKmb56sQlAloq3Ia8aCiBtk4mT4/aVORCyR+hC1s33N2+8duZ5wrjeIFc46ZVGg8\n",
       "uGLPJAy5C5DvUw7EjQadJMTJVyZK05QCjPsniVu1dLUwGiAimGDcK4PEz6JeVGqpI+5NfdrxzZXs\n",
       "RvrzU7ot/qoTu3rjK1zcKWheYCtbQJDycnOEok0eiO40uAAAAPFBmnVJ4Q8mUwIb//6nhAFR+na+\n",
       "AJu7s7S8cpJg5CYdmpu5e9mvFZQTQpHFsrdTZVO3MyyVtrfARBEbyRFcEiW+dkOLK404W1guiyYq\n",
       "mvQ/SI/DsSMkclEHy4cscWd6jXij7kte/N0T+xzScz4nDEl797qq6jM7rcp/yGtY6HKt8eMhV0yK\n",
       "yMLOLGri2S+SDKfa8VT2cD0nocCATO90EZp5d01Dr17h3PYy7f5A5dfusFGBHK8njsXixb5OngOM\n",
       "DwaTJj2KDQnRL9FFMXCTjTokJtYxRPqrIt7H25h3S4YPUDLyy8iiEmBwxd7wgk/8oL/TAAAAVUGe\n",
       "k0URPCv/AEF6sdK1A3MpFVqownWzBdPKsYmoU2ABKGi/tTpId/WUYWxUW1FBaqcPGrc7OcXavGCD\n",
       "A0/aZTRq8oBB4ip+Kh6kS20thYiWeYpnlkgAAAAgAZ6ydEJ/AVhGUW9PG5h6e7YfxtE7oeGSLERt\n",
       "UTTqbe4AAAAoAZ60akJ/ABWc043VJzQQ9+5/n5oE7Bi6eNMFNk3obt68AELnWfPPQwAAAO1BmrlJ\n",
       "qEFomUwIb//+p4QBUfqBvwAsLOkIdvPSROzUbruAKfAqj8XopjBd+8EcF3euAFyYadO8Bu8jYsf4\n",
       "tqMtQQfpUt+06Vv6/orZsRBFFLFGMgc93PPd3Wixt5TzG+J2makSuc50xYHMfTyitzkoumyDtp2x\n",
       "UHTxBLasHADAAq4GK6ZawaGm/Knf2gfrrb0/DjjAV73yXkA+QiEnSfdYSHhXpKdGSZhR3mBuJCks\n",
       "plH0p1gUt6Q978+C07h3twgaCC6Itq7Eop2MZVd2k/Qdn+SLBiZJ1tQm+5qU8VfESAQy9ttHyhkH\n",
       "wwNPABgAAABIQZ7XRREsK/8AQW2NEwgR+s05mmz7pdsn+r871nbjtDca/NK65VkAJZ8x+wE5l5TK\n",
       "3TUy16UVXfzZ9OFdAHYN3KEZPLCZXBC/AAAANwGe9nRCfwArPxI6o+pxOHQ80cplXBm5ETb/VEAJ\n",
       "xx85t1mz7QC9CE0nkJ+ezKJhvEaL1roYnQcAAAAtAZ74akJ/ACsyA0aQ5NY2llsrJ/etiWgAGb0O\n",
       "aGdgH7SV7qnbzkSrOzuXUOjBAAAA0UGa/UmoQWyZTAhv//6nhAFR+oI+QBHqrbLCCPR0VG9ZyVsi\n",
       "EXcEayglZLrddOuNDl9CmUOcJ64LOapDeQg6uihk8RIWwaZjjI07jUp8d7YovhPJjNIEyOCV++iF\n",
       "YrtiPWvAbKggX8Swnz6kYyQ24/f9gkE6sZMPnxopH4ixidGWFkGfRa++skcCy5Z61+/eJ/koiQ52\n",
       "++djc2qG9aJ8EaB6KPY6S3z7FHKGxf5Legf+p/8ECbSRHBztaJEo5Jw5hjqwc5adrYiE4gA8exGI\n",
       "eE2BAAAAT0GfG0UVLCv/AIbbpP597PViU/r7oGTf32SP0sXgpbmhSABXAeD5qrazDY+RznOPUWru\n",
       "5Nts5tJsBjyr0PhSyW7X0lZUXskwwGDtzAkp/XAAAAAsAZ86dEJ/ACs/Aj9yE/Cr6BLUhfYATKCx\n",
       "N+dyIRMj2miVDsyyHOqKbDNt4oEAAAA8AZ88akJ/ACs5lrJ/QtWrNUDc2h+ueAExdbwOZdmqRXx5\n",
       "s5YvwXaZJxMCwVScD6AgYUZXCrqMHZtTTM3hAAAAn0GbP0moQWyZTBRMN//+p4QBUfp8bSANeeAe\n",
       "r2uiurZcm3Fv6V96a5cFSiWwad13tl5R/KmFVZIvlzfMm2F1QCDUIVbV7/PEATu/NMKfWTWMbJlQ\n",
       "L8kIJ1eKEucDc7ptYbuBitwWoJ00fuoSkUI1A+q3Iq3cb6/Is2f6QnwApp1VRK7jk7tke3v2uVwI\n",
       "owKI0f8yWLPsbMZ5HIpnNMOzVgAAADwBn15qQn8AWK3ONyQqW++ehMIm2LbBYVivQAPpu2xcOqoY\n",
       "JvSKx9wUfA3IR1i8N3N3sVd8dI3XfpoW1nAAAADwQZtDSeEKUmUwIb/+p4QBUfpXrcAR6uAojp3+\n",
       "ME0u984mmjaWjTnnqRcYq5kMBzRpmQww57EE1ObYn571YklY/E/dDP/ecSLsMvAg2+D01JpLtLfJ\n",
       "XcFwITbKSmRJMYiO7nmmHvqEw4E0RRiFzvSxlV1nLhm86oS9csWxPSZhPol6N6qNX486ePV+m4dY\n",
       "CXQ25eYJkfcLzPFG8kNpMaRCwhT0sS8IfUW5NmVKTlAnnnI9zsAp5Fx9tNEo66d2N51u7VK+u0mp\n",
       "vOOABniBt1aQ42SYgLADOpkRLI8/59jj9Zg1QbE4sM/Vggk6/X/avgGBAAAAdEGfYUU0TCv/AIKb\n",
       "/Gr0FGj9PWkfiyMmKP7b+vIa3wAK5lFSxhUXzgGJiRrdS5TPyYlimSaFMMDdCemSPeErwVtjm5HY\n",
       "JQaPlc3ovUW8Bg/Pt8NlX9qxpFG7d5x4w7vkD5iVA65NZ47gj7B+IezrajTn9l3ZAAAAMwGfgHRC\n",
       "fwBYkY5p7XFje0rlO8CEL5LGyBIACvyhoZMBiNcGRyXyr5w91fc0t2y1MKTCQQAAAC8Bn4JqQn8A\n",
       "WKQGFEaNKqMvsa51pcSLC14L2CXxraBXpPd+joSTL+Ki/ifaVQehqwAAAMZBm4dJqEFomUwIb//+\n",
       "p4QBUfpXrcAR65VNZrD1aD4UXuazrCIhZPdGbPXGtMb+RfcFFrh3TK4BE9UpuquKHb3hp02xKHtt\n",
       "jqLFKUnZdCQWnVlD6+CVYbLuf3mmWsrepElrCMuPlqoNPu23elAaKljzkNF4zKbiBGFFuRX/SbrB\n",
       "agAaj/fFD/7DKGyt/E64NWB+2PhVunGydLqNX3cmnsUEZJDc4nBTcO6x1QLCDhx1Rt5V3dfvZ8pk\n",
       "Fq/vcwlO5s0CvFURYGEAAACMQZ+lRREsK/8AhqXRPLVUDSsYB5lM5bMoAFbTFMbWHc+d3H9RedEh\n",
       "ZxdIBIyO3nX1ziF21zaXuEssmoaKiSKGpdx/0+IE1LO+To8cKCmJ71uX3z9T89m8IyItCvnLe05W\n",
       "hnR/YZMaMnR9CYBO/W5t7Od7NIMkMPClCC/4oL558nykAHSWXpXgDx8vpRcAAAAzAZ/EdEJ/AFZX\n",
       "nIQdAMVPiwDd0oGTOnViDwYwEyY4YRvJEYFPprEDb+xxipHnnTgRfIdpAAAARAGfxmpCfwBWY0TW\n",
       "H6xyzZnpXjhfGtE89JBjnUaU4edpNCHgAJRYLkoUZhYQcIvSEVgqJwURZxZbzNeDqvNUYg8s+8ot\n",
       "AAABE0Gby0moQWyZTAhv//6nhAFQJF8ALCc6w32VLOAc8oTDYA9+bLgcktSqYFF+goft14GP3jnh\n",
       "9DVdg1xytme6QDB/E9rVg7vgpH5o0KFSz3bVLPIa6bqcPE8esDfYlvYWe/3BUJ/8aG/Ayzjt6bCK\n",
       "SCxjchMb5q/JN22sA9e/ab/s1maWAV7EsLd9AAzcJE0/JrJKCloZDRMYF17LXIg2/OpVEPl6E9Ma\n",
       "S64LrWCnU6FZ0b+Sy6g8BS0gmeSnZ+qpOLK+j+2PlI5v9tB4px+I+wcfJBd6tTVpW/4i0tqeG/ZB\n",
       "ULU+z85icXczQN/tIqobT4iKvU83ljC4RTg4m4X6pFpuVa03hocph5Z920rroenarCgGAAAAh0Gf\n",
       "6UUVLCv/AIalsSJGim8bh+AFQrKvRgApR91jA7xgKcDWnOZvINuHv7THFOV5SghXvn02XyA3b0rB\n",
       "6QdRfKDPa5UmKw0xHKIPIzHzc2MhIRolMz6Qs63HBUpK0SXXwkqs4/gDQf2NC7VPuFwB28U/7+QC\n",
       "jbFabL7A8wW3axMa0ukx8SS38AAAAD0Bngh0Qn8AVn1IijewKCR/hRCvBgzJFJvrhT9HskEuUhHl\n",
       "QACUlsr2pXJQ7ZG6AWxJKGzdI/svF+Kr9NpBAAAAMwGeCmpCfwCsegNb9UYLlMKXBXgeWFQH4usR\n",
       "SIWYFZ/Rts1X+GwJCkGIaydH/t2oul80gAAAAQhBmg9JqEFsmUwIb//+p4QBUCRfACwPGzrkVCOF\n",
       "YVOrIztaJq1RF04s25MVhtgz/tdDAYiEYcBVENUvmwbrLO+P+MNNLU6q9/5O8bZsQ78mHM7YePiB\n",
       "nskeWAKFXnnyJm3TLvU4vk+8xLi/I3sIVizC62DMXirAua/ukxWXMopXhcdh980QBz/38xo22FXy\n",
       "gYPong8qTNL6SX44jZkqPyxdWiI9IwjOf5cMhSxbIxqekBmZMoY1E5WmBxOW/j+Z0Xw1hFLPWqIG\n",
       "4hH+bnjDtCrzsriLb3T9CyYwEvelWOlGWZnBmGYXK6T4Tu7r1MVGO/+tvnoqaD9fyqLX/xpt8gOt\n",
       "dhlac/44hvIAAAB7QZ4tRRUsK/8AhqW5Ze1ZujrXdoDQucmZ5z8kYAVq5JS1XXBEuYfDikwdO/XJ\n",
       "y7usv7nTMM36dvHW2f48RV/MEvGsjnizy4ND9t/Q/FTiAPmXiihgUFHagKHboK8PiOrGCidLwi7J\n",
       "LWrT5BqHRsAgi7/bSxeDNzz8y2elAAAAQwGeTHRCfwCsozS77R6Cv/mhNw5M4SFVoYhTsgRKFAA1\n",
       "J506QiyQ+Ig1cv51dfG0yf2i5uDgnC3uB2DxYoIXu/2ARXEAAABRAZ5OakJ/AKzcB1JggNQWJoUk\n",
       "pyASTEj4CWJlvrUcc/ntanCqwOZnueXbWkOzhiIvG9qIR3rCG60hE6C3OogrTqJ/WGXZJBvbZtTc\n",
       "k5xRNiElAAAA/EGaU0moQWyZTAhv//6nhAFQyCfgB0T/g9CotB0jNpMJid9swRYITIJbnBIG6KBt\n",
       "orLxiMxyLAUM0ENIw2CIdw11c317EkHlILQaDBXl2An4/brgwmQja3ApBX6zYZ2efeGUm9LZfkLz\n",
       "OWLHR7Qiu+ly+Ux5ozb+svEA36FgbZDvcUjR6fmf9jNgM/ntugWe0Q8VVxS0ne6jfeic6kDPw3Eu\n",
       "2p9FUpb4VGqrJicFd9xzKS/84N7rAKjnss52iB712eVe2Eka33NxKzo8hLvN9MGUJfzK+31bRjEH\n",
       "peYA3oF3/EDdqTqM0Zlk+ot5f9OTIbTnmN5r7/CAvnGy4AAAAKJBnnFFFSwr/wCCyQ1u9gAtg7m1\n",
       "136tlxa+hFLO+P5LFGE0IhrEfWHXXrwxHX5qNlsPpCM3KJmEjUV0V54CUqYoyaVugbMQ7Z9DJkeg\n",
       "1y5jgQJ9jresyCg63Swy059rw+O+mJbFoa9UR5C4Tnam3PrX5wHaHq+LhkyGoMOumVGBnlO6h01S\n",
       "K1blefjJxM7v/vbenK4fDRx1KK+atdFZ0vCOMIAAAABKAZ6QdEJ/ALEJA38qRdPCEoqkhTaybz3x\n",
       "QWjUTNeYJcybTBenhQ70aCwzTACRlnaUIW06SxYn38naqiWs0doNre/3qLLf1U9YSt8AAABRAZ6S\n",
       "akJ/AFijpk1ZALal5VbYtjYAiyQTiZp7iHVeE8UkPFsR0a0S8Pr0gQbEeXDiPolLvz/7sNZc6TdY\n",
       "Q/Pb4zyiA8DbWFO4r9ZK36e0AVCAAAAAw0GalkmoQWyZTAhv//6nhAFR6LHAAb8Di9Q2f00wLYlJ\n",
       "jnFfn1al3i9bJH29jLVM/NpAQt8rf4JJ/VKWy9SqHgqE1KRc2sKOviOe4bIU6/nblQPX/ZxdqSoI\n",
       "4n9Gps6pYjj4VLZiNucMegloBdzuSkago4LbngW2iAVg0wp+psekrp8cwbJxizOeL0zSpjlhdwrq\n",
       "cp8Ktzfs6/m5azpChUzcR+Pn0qiQnAM0bFfEP23Jfr1HInbU2G3hgpOp2gWtoy1TSAAAAFRBnrRF\n",
       "FSwr/wCGm+7gfsyQJ7sf3KE1MUwTAuwAJP9mDLXFT7rn01ZdwNu5j/AedDDkc1nkuSQSfj/L35cf\n",
       "ueI0iC/z+PYfLNBCGv5G0kahmVqwuFcAAABGAZ7VakJ/AKzcDgq6aMIGkM6q+YyDocKiAED2cux2\n",
       "AuuksillTuhGh/R3jqLusvgu9jbnvHYI4NFGH7d0Y9qjyNC19d493gAAARtBmtpJqEFsmUwIb//+\n",
       "p4QBUekStAII5ZaqoF9kB7oHxRHduF/OmHvQJcURgkd4QFAeAEUdQZwYpNLh+u2MM/6T9L9bajw+\n",
       "jwTwikPE6EiLxIhmFN8L4yUnsLOkXzQddAVbzbcyHJ8riQCmzhPil4oqA4sb1xk5POhw5SlBoKrg\n",
       "OFBk5fF5zVgWnfGCq4RKHZuFPZNgDyUpSmisn1XyJfiV0dJBcP/WvaYpsZ6Nfmp5oj48P3d7eFGS\n",
       "BEJXDlWMZwktQqYzyRcNOHfifiCfDUKwK2/5eBi3TzddnRVKeOAdqLDGNUI5r8eZnJsx6nUI+H2Z\n",
       "0MPqFRzRqJQugUWuRMuw+tie7jAMlvcxpJIjCgRshFDaBEKqBFfOtx9hAAAAXUGe+EUVLCv/AIMG\n",
       "aYywMyLegBKKxMfq7yGFPU0C1WjjI5ibHOq+wo75999MW5iG+CCAJYYk+6gpavExIuBqm0ovmSF6\n",
       "YAp/crIOau4rvIfWTHCU75S+33ApkA694QAAAEYBnxd0Qn8ArKMcT32N5zNHfywuAA7s/HMQ0PSZ\n",
       "GaW0SF+8f91CLihFJY6RXw17X3Xg+MvN1HFA+zH1M8FocuPQRq2ZBDfwAAAATAGfGWpCfwCs3A4R\n",
       "3HaiuRxgn040b8RlHrgA7s/EsRccIs3d3fiSK49LxVT7YChIIdKniEMp2+B7Zk8wZYLZOh3XIowc\n",
       "6KMzbN7oLxkAAAENQZseSahBbJlMCG///qeEAVI67RVQAUHZK5D/0wv2GwbKVZh+IDlAbJfJFrhI\n",
       "CpaIvcPtPnksCb9q03JIRZ+R7z2vckQ6bT2unUHNyf+xMLLKNeCOPcFQJYerG0PlFURFLbXB/b8x\n",
       "objWZKNYHQQG8AjEFQl6IVtM1Tsslh4gRceivhMFrN7zLN6nuFJohrJ1ubRoZWuGdpCp7tkSOHy0\n",
       "C/GX3apPjvFNI8Mtend5bGNOplt87myYN/Ykdc883Ox+qbA71l8oAw3c3XQUcMCCKodFwdtGQtZr\n",
       "fNqvOHq2667h3+Py5au58rLfx8IxEyFVnlg4omaMZMyGGRAAA5iwqPmRbxlf3TJ4+p5GS10AAAB6\n",
       "QZ88RRUsK/8CKZ37J/THcBTrpQPfOK+2xRswAjFS1/sQZV8TiWSUJtOIKSzVSfslc3VOKO+4sIM2\n",
       "nX+3DaxAptqrPTfuT510yBZAsq449eKIPdlp0mxohAVAXNav5qJqLTXi3dLSWzQHvPQiR7dzVufP\n",
       "KG5+UPXIlKkAAABIAZ9bdEJ/AKyjHN4G+xNOF+BN2CGlTrfV0vpWqFAAHjSzyXAQInY54zKlRF+a\n",
       "4YPiBgiU4IgNaSZ2IKJSUXNT/CSZVp9VRFmBAAAASQGfXWpCfwBYo4rQZEaR+vKP8/5eVV+G9dRA\n",
       "tiBltbK1a6ABqwBMjE5YtWk3ezke/Jy0KeapxPxewztpWep13kzoJB5Yi7CQ/qAAAAEkQZtCSahB\n",
       "bJlMCG///qeEAVHq8lFwCDMrua/4IGjfwNm/vwDk+8Cc8pHMrCT5ZJ2QmmS6CuOarE0GLdKle888\n",
       "aEBt7TnucKBM5Au/wOUBJWJMH+/hDOAT8bHhaBNi1Cs4jgqx88nsChYVQg55lNxUAiwdo/YNM4dM\n",
       "FK+m+RgmDZPScRRx9Bzvw0loWHibWA4x/ZoSy6yEnBYdR09TzI568qaiNogHu4Mb1ZCIU1uidBbd\n",
       "EgBxc8oEheuO0GknMy0E+GjFaKrKm136LuE/5bNUWLelLjNthgkyGBcj/VwwqMExM3DBIBQ7csTf\n",
       "e8ezewopE+LLgH9vTzqFpGI3sZ4l0ECH0HBiphhVk2w1u1+D7SEiFYl/f60k2V7BaRvsvkkFEu6C\n",
       "vAAAAIpBn2BFFSwr/wIzYZq/veHVPtutBF0oEnzAm1/rgBZGtfW/zxJIZrMjL39kmFe00KzbZ22T\n",
       "zgwDZcbtHdPV+YkQk0Cbf6YdCe1DFy47jN0JgTLtu/47ZhwPldL3waova8lrwnBSJfOaOaaqhCwe\n",
       "PKJmf4+irYEFSY8I3G57usbhG1n7uVtwKDdg+8MAAAA9AZ+fdEJ/AKzfjQu+PACZozlhPykJfDYg\n",
       "HPbv5yi9r+ikwJy8QAakOHclF6Q2j459Gt3FpkVIjnl8rTCV4AAAAEUBn4FqQn8ArKS4MmljP9ay\n",
       "PZIvIEwZuDFvzX3gQI6TFEkgAHtcypTRCi/mOTQxuZrkUfTvAlLDTCUCs0QMU1Mbn8LEUMMAAAD6\n",
       "QZuGSahBbJlMCG///qeEAVHrIjWgEJp9+g/Em4RXvXdF2agZEfuJ5p42290hGwMese/CTYTB8QXR\n",
       "Pj9jzsUJ4JLgGR64TsrwhWUEVY1TQ5EPeOO+ZKgzUZOpEixUz83pQYCUWZMKpBaOtzbu8zRWy7D2\n",
       "TJ+ts8kaAcxGFxfjwZlChLmSNWjgkxuHZTmGcp4q/qIokb6MhIXegZTeqDbBzLjX1006OT85dwCL\n",
       "hJog/W6VfbR2gKdcIa+n067HCLAVcnTiqB8tDPIHBEcdpI4GPzcJ8plx9Fegx1BfiWMkDePINYFy\n",
       "frbr4/uV1DBc3uhm1P9/JRgr29sFtgAAAJ9Bn6RFFSwr/wIzYZq/vbOJV0fKj9+IAWQ+GNzGCJLR\n",
       "YtP8/AbkB6kupM0oY+2k0Tm1t48RbE5hWvf/FDBKE4nkLD8q0LSXb2nwQYidUR6Dk+X9dD/c399C\n",
       "MjizJ7UCxxOG6nf8mN/pR7RnFVb5MqKE/mbuYzsgYCNcbQz3FhqrSYxLsQJMAWxp11EmN8NyXgQc\n",
       "Ayx3gkRBygFZJ6bJsG8AAAAxAZ/DdEJ/AKzenPEAHFXZ0zerYC+/QGzX+HWsi2EB12mmQKtUFnzr\n",
       "vyPZWj44546IQQAAAE0Bn8VqQn8CzvGKXLp4rLRjgFTp7U3RD/ux2QpF/ainZkklH5vqC++uG5e3\n",
       "7+39AMHJohBKPiobSIATt49/bGfD0sMZMe2+ogSIEs84QQAAAO5Bm8pJqEFsmUwIb//+p4QBUfnB\n",
       "X3AIOXeLyX/AzGFTLbNNGKM+wn6IWxzcbgGrdXvm51nyFcKJ38ZuUWfVWzvjvUHLjt7ePSsI59cn\n",
       "wIKldR24smwKCKjL+OeSq3mI2pq/WqxtdMIu6f7XKGLsWVlZBQlUkrqw5tU2brrwPIi5QdvTcEtC\n",
       "Dlamk226UVPlAC95CTJ3lJJctwPLgrtvyf6Z4sKG/Rh6QZC6l52CLtv4Auhyz7iP12moJCuOdUeT\n",
       "A6ZQR15+DyjP0S9OKTE1WgASW7jYSbhGfvZHeFg8mWehyTawyG1FUcBpXKy5GteBAAAAdkGf6EUV\n",
       "LCv/AjNhmr+9lzeQPPyeTv0ACt/x8koA7PNK+Ms82MZZkom1vncUxTPpumETa9/FGJEmnoMu/nsD\n",
       "h/hg6GfCGKaBrOdTCd6TIvI1RUGk3d6IVwjef/WMF0oSWDo3eN1vzINXEA1CLA1mKK2sX1GbneAA\n",
       "AABVAZ4HdEJ/As2zEXLhTINxZR+eRkf/gP0ojO2cARaeEAFw5N/lvkFVJCv3hKNkIzRnkfzTdh6i\n",
       "uBvOt5xG+4ZuOoguGgzmHFkOfkdOY7nO7CNKitcCfgAAAD0BnglqQn8CzvGKXMed1p5Y3wst9Je3\n",
       "HNyZ2B6MbSKRM6YNmZAd87VRf6p+VPn/SsN7MAJEWCv9L1BBYxrBAAABIkGaDkmoQWyZTAhv//6n\n",
       "hAFR+hwvQCDOirfzEnt8+RsYdN7/83hJUNMhSOH4NT2bO+vboLisKxaacYmNvssa1Oq3RZE6NXrx\n",
       "Hfp0YfmX3jO2pjxLpyMdy9s5+OOl4rrzyyvIAM1dvmxeWG099/wlB3NKBBfvfDwNP0noNHIzY9Gt\n",
       "PSfjOjQWavEEj3uqNe4Hd5g0T0hgL2tCOakNGVUmaGGggqv4xqRZoYbu9gbLc8Xa3/pk8OeX8nbW\n",
       "C+VK8DFPc6TaPHuQx3RZ6AVPi4Ruk3CK1T06KeOnJLGj7OID6SjE23/b2LhRBDGgoDezVrZsp9zv\n",
       "kMHsyaemu5KURbHtcr3rUU5YRnc2RdIlU2dIIhbgOIF/cbbm07WgnNbRY2rGGRcQAAAAe0GeLEUV\n",
       "LCv/AjNhmr+9gfOqV9blT7I0NlYP+Xu/HHY5W2AwAK4tQ0VjRG7ppQ6fBPsyStxyNR/+0iTSQmgd\n",
       "HDZogE+6bngQ5YHfRSNDiyN1Im0LbE5Ov5LpNvYD2+YDTDOOqa/kJJ3sy2yW1BCRVd5NoL443kB9\n",
       "gDELQAAAAEIBnkt0Qn8CzbMRcurQWq7evKLc6czqOYaRUV1/5gBOtuDX4j1xAoTYWLKgMfQDLiap\n",
       "VmaC4RwDi3ygKavDcTFKl1sAAABGAZ5NakJ/As7xilKFTtKu3FWlDpVgFdVBljrR9W8uTcf5PH6r\n",
       "jhkB2GLkvfY2SpiEhNFRleFVoxfwASln4/+BFbx5YlH2aQAAANZBmlJJqEFsmUwIb//+p4QBUfo6\n",
       "0CAJ/atqUvNuzmqSsVajWzQStrU5/ukfo381w88dPhKTuvuTjnldiMrg4JfyyqVWcbHXXamStPRl\n",
       "UkIkagi/0RvIrZeUyvk1AKrKXMlL1eSoG0N+MMjwhQ6mTS0yr5nCLLsMh408f9oHaM1TFlAR7/6P\n",
       "VutU7fSI1xTwZpFGP9eoPjqj28LA38VcndEEuSCYaMvk/WqorMORb1lYcdA/GsBCxcp08wsLWkg2\n",
       "H29VQygA/xJdmHzbEDXXVle9C5qlwmdnAAAAd0GecEUVLCv/AjNhmr44QTK14rWECRe/YoVRLcL9\n",
       "Pue4ARgJ9aRH9aB70MCMIz5/viy4Az3XjmQ3JDwoJiVKqYDxvVJvGYcpfbwKHiYjHA9gWyR4acmZ\n",
       "VSSRtCUlMXQ+W9KsLUMTdKFegmPiE+YHrLqxBkCacKAkAAAAQAGej3RCfwLNswdkasIullm7zonA\n",
       "ZhjGzx8wAhmkAqbXcymMQLBo2Hfn65vEaNYC1u4XDvbxgzH2CtbDBsgyf6wAAABHAZ6RakJ/As7x\n",
       "irOVAuPaZqj0Q3XtQ/+NdQFhgVwAfhLTaQJXD6y/92pKfL3XXrCHTXGMXlFI7Etjx1V9bsSQIXEN\n",
       "9G++NmkAAAC9QZqVSahBbJlMCG///qeEAVH6ZHqATMSQvKEYA5k4F6cZ7qaCwxzqtddupbY7xwVU\n",
       "9aEDwUs3IOrLCyciuFmY90OewkMGr5Lsj9ohKapzCxiLs0xHY0W3ehFRARPE0ajNNVPBbewacltp\n",
       "Kr3tNGFrmYP7VB0DJKGNnR/ENx6IBXmAJHHbbgHDL3HqWWAVZZUdBe0nC6kCPaFsdbn5tfQX3Gda\n",
       "sCMb9kktwJ9I9o26vzIicAGCl4iX1O4xRlmmAAAAT0Ges0UVLCv/AjNhmECFefqkOOpilUMxrUNf\n",
       "+7FdnwAlBMm/LACvA5jawyA0E+rFDCUoeciXNqi4CuPpqzVwmco6SDGudbt+hpbW59i09CgAAAA5\n",
       "AZ7UakJ/As7xgu5ncKhOBkEHuFDuoV+B+EAEol3k5ZULyrng4JTjYpnKwdcwtjtnmSlgU8HhLDnT\n",
       "AAAA3UGa2UmoQWyZTAhv//6nhAFR+mudAIPNuuvahCBffEvfuxSyUC2MTJwMcD/xilS9tgj2en6I\n",
       "s9y065pdqSVttkAAQGK3kS6bKX4HF8bk7XuSvW+fi/42SU4FLiA5j0pXEhMyBP+95L4vomd2sYah\n",
       "7Cmt63KrgyIO9r1Bp+xDCsjhHovKe+zlt+0IVIv4ys5jW+IN6oCWEcVUOJHEQGaZYx4jORaHMw0J\n",
       "isBj2+D2UseHy6UwbCW9ahZmsvsUjevGNjoPt4ibc2YsRUHidXyqQ12SQ1Uw5y3xJtIEfKygAAAA\n",
       "VEGe90UVLCv/AjNhmEE9NYcANWUI6HcweIj6kuhKffa0v8heFb2AVlsiT9UkwAJSWzcLrF56v02l\n",
       "nQI4zPudpKmLOog+Oqpooozigl0VARu4YaZTlQAAADkBnxZ0Qn8CzbMRcwctQPN19b4ikdMCoBgL\n",
       "H2pTRyK9FDW88WTjNpYGbr0tEzeGZRrLIAJRMXF4dxEAAAA4AZ8YakJ/As7xmTIwvjCwpvA/7f74\n",
       "XemLZa82oAH+Q2GdlpGZ6rTPxDnc/RISM6skwVGAo+A5/UAAAADwQZsdSahBbJlMCG///qeEAVH6\n",
       "Xv4BEooDuHd1HswVj+b0cxTWElmhIqnh2W5Nd+eRdtY53RLxyYztMPpwHX05pnz7uc8zySPe9kR9\n",
       "febRg/jJVAOk+e3De8XEzG+mtEr6wlutwZTqLSIpyqVbv6V+XaS0mkggR/p7ehxM2bhQ+r/VM6Xz\n",
       "O2ciBNyI3Ut37gpY4gZQrskHcPMlvgilvHwo5IFjPcqVA35kcdcohHbQWA27bPHDZPHLNMPtVMwh\n",
       "hgVXoPtB5Gjn9eZ0ww/mMOPrdrxZ3/Gkg84Tl+fZ+5D1u6XPG6ZRzH27o52il6Ill3vzAAAATkGf\n",
       "O0UVLCv/AjNhmsLl9n5LAS5s18czbJqXsMS8pDofk99NU4xiKMWwnPCZZXBqIXt9/fGrDZ8rGgi5\n",
       "nGOSKqGN58NUcwAd4c+1IR+HyAAAADsBn1p0Qn8CzbMSAI3B4m8qvY81VrUDMRAANR8GKYRAmFvM\n",
       "yDmLdakyhwwzcTzGg61C/WPLMRDkF4R0pQAAADYBn1xqQn8CzvGKs6Mgd9zHLQAyeyymta8BWQAG\n",
       "b8DTzz7v5Px3XFWsoLh7gCae5PucSdMhVOEAAADaQZtBSahBbJlMCG///qeEAVH4SjgEzzC2kmWH\n",
       "r7w1LIx/q0U89Ah4T7yYtFV4JK3rdIXeE86LL8PVqPPfOx23bvIjP7uA8nwbu00p6RDrn+2ccSVo\n",
       "mXwvRz7QRwNPy45qnZoFxyZMoF0UBjQ0/QjUoYQa9hDEA3U0emJxR0J6gdY8+0nVJu2zKQskhDsE\n",
       "T0+1/xW/IX5jPXSg5tXrRD0YNvdnmeizOAOizOEwgBKK58D0YM+RIqA8MsP2jN2WA+h4Wr5eDKyE\n",
       "2DkCftZbRTM1XVBVZtyxs9Z45PYAAABJQZ9/RRUsK/8CM2GaweptWHEHOrFqMBumDXo1Aqq7hc+o\n",
       "JqcAttBWmEAzzFOa/joruUqY11fACoiKR5G4dkXXAMI0hURIuLOEvgAAADQBn550Qn8CzbMSAJZA\n",
       "DIkDONKmsQfqzJ2FyxuWHFSsSuByk6GZX3yWL+FP7UE6iqISNJ/hAAAALgGfgGpCfwLO8YqzoZR6\n",
       "nGcxrV0L1RTQAaoX0+Q8u5YJsN63e1XYLcXU6Xzb0YAAAADUQZuFSahBbJlMCG///qeEAVH39ScG\n",
       "EAr1AJTVFnbiwBNX6X5qIVdF7w2Hd67RePLhn6LpQxrA85PbeOnek6HKjNuGI/NsAzmE3X+w8KKK\n",
       "tnUQP0HULu5/56/HwRRCb3f6880PhpqFSg8A5bNVz43Lg4WJzBj9tPzkFOmy3xGPhpFZZBi9DXYS\n",
       "w+wUEVjJ/QZINFGYYDBOSw7g11CHY2fX5jq13r4DvWK4cWS8a29OPcnLFKZFdD0PIpvjNuXnOaDb\n",
       "tTBlNwJ7DNx+Jjhb35xVwcqArXEAAABJQZ+jRRUsK/8CM2GYQdwQC5ytvxL+7go5cLIDFFvuCABW\n",
       "0xvB4uGkxdJ7UHVVMzlVqvMBXuGvem27fjiMmlrBy4ceFBARgvSBmgAAACYBn8J0Qn8CzbMSAJM8\n",
       "BfEK0Vyx0cnvU19je/cxyXhrKt+xfjczwQAAACoBn8RqQn8CzvGKs6GUepuuw7DlDkYA8vXsvOPT\n",
       "7mRSfOCfBhJXShhLTzEAAADEQZvJSahBbJlMCG///qeEAVH4SjgEygxWdNpR1L4Dl0wLvt8L6lGl\n",
       "lIjYVdbbZ23Lj2ZtU3VyHRirx+GdQJSQVKfZOBSAdPn5GyYLlyC2nRvXC0lsljD72RhElaS4EyJt\n",
       "GBukgK3XU1OAxXoUJ0szaGtOcQLS2lF06EqghPM0jr/fNzxjFIcTJMdno8rg+qbaqSA5IGiKJ7x8\n",
       "B5Osq2STzhWReKNApr84NttuCgXlab9Bb7iza/akU+p5bphMyMA4CexosQAAAEBBn+dFFSwr/wIz\n",
       "YZhB3A9WesfSFX1OSkaUO1Pxo2YbQilBsgzDqg+Du6SYY0BvAiSGOmX3L+B6XdsAKtkl/4UZAAAA\n",
       "LQGeBnRCfwLNsxIAkyefWZ8hNVm8WTnqe8xRn6dWVdDaPryyQi7cs+PCVqosmAAAACQBnghqQn8C\n",
       "zvGKs6BwHnD+g35M4e746XPYY/31kVmRRpOZ+/4AAACxQZoNSahBbJlMCG///qeEAKd1wHkVvPp7\n",
       "zccQhqarxAAcGwSgtzuTs5qt1ntfwY/2l9/yVnpwdMNrHMTsbM7YkXIgYwehlc30NYZGhi5d6q5y\n",
       "/N1hXvv2gNuBNyjD4Lrod/sUmljMtdDWWERav/PzTTHBHDNBSfislzWnzCEWs7QnsjDbV4QOX9H6\n",
       "95Wsroyuz4V20bZ1KcaYb7vRwyc8e1PW0yrxg+aW8VFbi152q6uZAAAASEGeK0UVLCv/AjNhmEHa\n",
       "9gbt0Vqr+uxsqZRWM8ADJMAwAi9zkVVPqIveuGvoENnQD2L2O+xdXAICXKBDqP7NpW9+l7eS13ou\n",
       "uAAAACUBnkp0Qn8CzbMSAJDf53rd33iZSx5A3Hu69zmh5FUw6MQ19r2yAAAALwGeTGpCfwLO8Yqz\n",
       "oHAecP5yDxxwxguM4JI9NvWabnF26ylBjTEr945gA+hMKFCXAAAAwEGaUUmoQWyZTAhv//6nhACn\n",
       "goXFjoui99iqPkIO2SMfsVVTYL05hQBEwI/cja36H06a9792C80Ts2sZ/PYaVlOGjDl9jCQ52PJk\n",
       "mzEfrH1Ml7RbSGsiov94rVpEmlOcmlRtuGuxiYTddk/c5Lcsunld1EXVeVnuzmuzFGJM9GibH4BR\n",
       "jyzPgZg7GzHMyGQdbmC2c828MUUHEXKIL+v8ZhdynQZX3wh8GhC8e3ItAxKkt+ebVXO9FZ5vHzbQ\n",
       "h8RVGwAAAEJBnm9FFSwr/wIzYZhB3CcDFY4XnqCiC/NgXnEoduO6SVQ5ss1AnRYAO7O7Ru2/Z/JP\n",
       "GHkeN5DOCySSfMgOthhhDscAAAAuAZ6OdEJ/As2zEgCQ3+d6zE+8Ow7wUWHnCvP6Ej7cQlNQuACc\n",
       "X8RqyJr7CE9qhwAAAC4BnpBqQn8CzvGKs6BwHnD+g5f6cqgdxxP9flYm0iPQNs9++eABsS/UTIE5\n",
       "jodwAAAAwUGalUmoQWyZTAhv//6nhACoJNlKE8yrgDMXFRcDkHC6Iz0mhni1ELN78YJZ1y8irypy\n",
       "008PE4heRuw1qZ+bC49JK1UnMT0s/t0NDDZgUhBbwIVA+CvTB9IUi4JV3VS33e0hhy2G1GLQDxzI\n",
       "uZtHx+Gj32+zwk6NB2Y073vngDKz1bWIzMsh+DDIDDMvEWCztp97qTN0Zi/XBcW82Ogh0s0CKH5n\n",
       "a3ChiddyV/vTV2uhSeCbr8qONjgyrnprtAkBc9kAAABXQZ6zRRUsK/8CM2GYQdw5RkzihqyEAuDC\n",
       "GFefAiwzzpTnmsjDlCx1aKRoULrT7o6MACuIr+T88IyKUYFbV1teMak1waaSAcylUEkSuA/iNdNg\n",
       "EWHS0e3AAAAAIQGe0nRCfwLNsxIAkN/nesu+Ig+bDKHTfoOn4moq+N5VqwAAAC4BntRqQn8CzvGK\n",
       "s6GUekWVg878BKBNk4vAQVDFSINBnObrClXUozAB8xjx5HtnAAAA5EGa2UmoQWyZTAhv//6nhAFR\n",
       "+QEnCg49gBAw/+E2ogxXcDApkU2VgE3worOqobXEmupGZkevPNKPhrh77AUB4oC1u05qV8FciAP3\n",
       "AHDvmofCaCz+fB+bOGSO1QfyGWtPSCMaRMBeIQxjqqxG9upF7QrHFg3Ov8SVyrVfa8q+z3FbcjhD\n",
       "2+zrLwI2DNEw2CdYNcxRpVmFUtS4aw4YMUp3AqzdRg5t3PNazVZLG33yHEff33g2yT4vkVFRwCh/\n",
       "bSFdIIgI2NfP2MnB0/NE6Y2wDNkOTwJlDRdQcHP7hUHrowOamBfU1gAAAFxBnvdFFSwr/wIzYZhB\n",
       "3A/0D+QHFvhvdjKer4AFqipGhTGTJv5OmOnlbetqlDViH0CrpIfgLaot8/jHu3TabXh6EfI2slKu\n",
       "e3BB58C/7MHMoJXIpu1eVS9vzIN94QAAADQBnxZ0Qn8CzbMSAJMnn1f/qiwvaBj1PgMpqQNlpNsi\n",
       "NAJTAkUCpkesK5gAGhmxZyZdvnHhAAAAMwGfGGpCfwLO8YqzoZ49TzTVCP5ylkvT0U3fb/ARdPjR\n",
       "qL5I9pZFeIAQJAq33SqxiVaY4AAAAO1Bmx1JqEFsmUwIb//+p4QBUCASADVFLoyrfVZ7vPO6oZsi\n",
       "a6bxMjvATzlUIinzNt4i1u9Tp69g1gA8kd4t1sCBtIPHeX+gRcja7vJhVh65STB/gTuf9ENK31Na\n",
       "pTxNGPNDm1RQ9UE/gg5TsPU/Wc2NQRuzDIyCCYLvSkYG7NLsZ7twHd+J5SJcdX1vOV+G0VjiO72s\n",
       "n94xr0J1EINUgkvfumiQEBF/YZot8caxt5yZL2EACoJLz+/MPmbj/ZKuVGB0rTqQ01SuTLcIsKVK\n",
       "0fgIdNj5eRn3Mrkcq1U5K1aBFniBTMpb3qpzas2gD2EAAABTQZ87RRUsK/8CM2GYQdwP6cORW7Iv\n",
       "iOhQHZDmTIAQubyL7WohgapV4JTX0aGGJtzq0SRlI6DFBkoVl3mhkC75akRwS0Btp+4vbGIXIq0d\n",
       "Kt/DivwAAAA8AZ9adEJ/As2zEgCQ3+eJo26kZMX7AwVnc14pcWkgf5Ci2nARmYlPzT++FwAf4AFq\n",
       "CLBH3x6I48oNEz+BAAAAMAGfXGpCfwLO8YqzoZR6m6i27DuYIBpag0Dm+zmmH+Gri0MXsfWaZQee\n",
       "ABqPHkhZwQAAAOJBm0FJqEFsmUwIb//+p4QBUfrDPAGVcEUWgrXJ+5d0YNAgd8FcsraKq0WGDmaX\n",
       "yyVOlQxy+8nyXr3JxlzY1e2aBp6mQ3K/vCI6tIX5uyCbWZO4wur5o3jZ59k8SsP0GPl4GgVM5fOL\n",
       "qpAb7Pr7cgN8Wej8Y4x60Y44fYNT0rJahnusNNf/rwcddp2X1Wtcfb64aMtJMmxuPkgY+RAuRbNV\n",
       "31U6kbo1x3wA5TxnkO/2kMePzxxyKLLpwK3aIGLB3UD4eb/WTrdNrz7+6lwzePdnP8kba7xzQQA/\n",
       "vmKGXB62SaTyAAAAZkGff0UVLCv/AjNhmEHbIqUTfdo2EjlYLWYZpomz/gAzemRcf+bllq1oi5UC\n",
       "osrOJNlDKdqrYCLtLq45iGPAqE2JO50n4V4F9bN//9/hoG4spsiELgJYZq521lUfr7TSnih/rvEc\n",
       "wAAAAC0Bn550Qn8CzbMSAJMpZyCFr4tUTf/Ev47fqFt+sikh66cDzyXs2gBCbOIZF4EAAAAyAZ+A\n",
       "akJ/As7xirOg01CKzDF69pay4iGuCj+0HIwCSMokhvdOfL+u77mnwANPC2IfUcEAAADBQZuFSahB\n",
       "bJlMCG///qeEAVH62T4AdC11Ixl+db6S8NKOYFxKuhrId3QNd5M7cB6jx5D5DF+ExPV5uXUM8Tqz\n",
       "4LYGE78gA9A9C6pILWLV4BQxFkzproJZY0ZiQ4pEZDPsMOY6kE3TetjNASOGrm2t+PDIwJJ6AHDi\n",
       "aXWtQoK8yU3UlQoff35qxPdA6/hZsbHOeZuZOJ5R+4y2Koeo0MG4vVFOAz05YFIaqyNccmXOuMOi\n",
       "xjU6C76ErD/nOLiWJ5ZeQQAAAGlBn6NFFSwr/wIzYZhB3A/WLaq0BX28fpmRsmurcYBQ61ZSNTfo\n",
       "oQAtVWj7r60w//8MQmckIMGSurucxEoKgp+D0I912BzKses/FhrIoW2qB/8W3x5Qd6jtxUqfNFAP\n",
       "KFUgsXxBirjAhfwAAAA1AZ/CdEJ/As2zEgCWP/sI6QqaE5AT/gAzjcaY0UhovES2FCLBm9VuVlN2\n",
       "W7vAjR78cTExZ6EAAAAvAZ/EakJ/As7xirOhnqEOV+ItI8ytp83y5Fd9eFjADT9nEsNLGB/2AD6F\n",
       "/CZcecEAAACKQZvGSahBbJlMCG///qeEAFQfTKmpibGATL/ypcNDv5AIfrBdsRXIrWDAn5yEsVcf\n",
       "IMBheV1bsEIhfQawm4qfVNP86ihOC1ntO99wv7jnugVY+AvnzFowU9qzb2BU3muM5BoyX6KhflQt\n",
       "Q2+dTMzKUkWMn8zO8XBCtoFHKXW01I75z/4gB49nYE5BAAAA/EGb6knhClJlMCG//qeEAVH6g+hA\n",
       "Dm6df3GQYHt0Hiou0YxMeZz7w2x+MyPqXrNe3x4Onh3pag6J05GkDDs32ODbM3RV1YtalRGEph87\n",
       "B4asqJWhn2+aCn7qX4iUAQfla/Qaz2Mt4NO8ZSYknTNTQMDrxnGYxW1aygkBy5xh2Gr+wSRimTe1\n",
       "PXq52LpvrQFRqN/B7FG7+gXBKrpnIRutwoPaiRYflQgXN68Cgu7XM8ZgHinIRCmY5DK7Eyz2vyme\n",
       "W6+GAr/YBkgUu+gb4VSe4MDMArN+rgdD20kIwlYy3AJl1Y2XkJ1AViFK5K3hIQOR7St4diD8x0ce\n",
       "8+l1gQAAAGNBnghFNEwr/wIzJhrB2+ztsuOGW5x1Wm85ehInPuxO0S70KpQAkSarLlz87Pm20M/L\n",
       "Zn8O8gVwWskD9EnG59ucQw3CqbLtKzjG9yaAp8CjFLnWbLQ2wxopC1h+6O3T3Zn160AAAAA3AZ4n\n",
       "dEJ/As2zEgCTOrakkSZI9h4YSx+1DyAB/Yx1oafz+CNATgMsCo50rlaNqJjeXX+2KXuMPgAAAC4B\n",
       "nilqQn8CzvGDGcqEWImJY0oqdGAieXDNAB+Q/EFub9SEBWsvYla8PiM3VwHhAAAA/kGaLkmoQWiZ\n",
       "TAhv//6nhAFR+oG/ADn8cq+3DuOqeYKpHTu9MJ0EK3nm/MKNcA7hBmuBzVUsrBwVaVsdM2jjUMln\n",
       "IHbELrnIBLu+U0uQtP2SC2gd/5fBwatYmMcIHpPElXEOUVxOW9Y9Raz1a0pnsW7e+xlGbklcms9c\n",
       "7qf4Fk1elgzOWMT6rZL+fgdxAl/2qkBx+HPkF0ShRvBCPP81+DY5y86VddLhTZnX/m3oAxcYMnbo\n",
       "ZGFkFjzlgjHBzjWc7XWLQ4VUKC+fCdQLy/IKvxVVF6WqRG3U+1uAF2q2Gi4peWLRZ/joupkQpWFN\n",
       "AhWmOCmHkOCh84PqE6r7344gAAAAVkGeTEURLCv/AjNhmEE9NZ6sqZPWjEmXzH/ACynUDijfHy2P\n",
       "GBIzYjACsbq9cVAzi1RZ1OgB5FlOFK3yKeBRdksWcK7tOHXrbdF/mbD54Qm0sUOPWiiAAAAAKwGe\n",
       "a3RCfwLNsweAN/E8Bdijm1ottlAB+LwDA2GAvCzZiZRDBN/sv50sXp0AAAA7AZ5takJ/As7xirOf\n",
       "P3IJGxGwsVqh9T8MAAP7GvVn44zw3YXlm993OSh6nkKWHK6KZ2cdCN8fhyKgrj0AAADrQZpySahB\n",
       "bJlMCG///qeEAVAkXwA6CQs/2Fi5bi+Jr/BFXsxSeqrFdJsoSchz/CDHOMvFW4tjCyZNbxIl5AX8\n",
       "Cfvi8MCekasDNtDL6Nrtpy0hyCAGX9qbcqsIdxdgQREViNRmW+eOcLHNdII5UfJHM0l7h7fW53Y3\n",
       "o0J7/uj0Q+XOaIyazlQV0HRX5W/omJUAGSjt1pMvE1OBolZri+qUT38o2exOuLgYXoPQSTMDKRXZ\n",
       "0ZwvAfOo9yRwqZlWRZ16tYN5JIqBq7LGQXYGYFmX6FKFVgKDvLU4DA3owdTBiZsLwhfGNRJO0gBh\n",
       "1wAAAGFBnpBFFSwr/wIzYZhB2qCkjtNdruKx63fYOhY+hqJ/QAqtdbRzlC9n+KhFgwoRt7uytRyn\n",
       "13yvnqXptAdyhVAR4Sre30KLbqErTWtcgEQl9qSfQz+tH+iFySACcIqfMY/8AAAAKAGer3RCfwLN\n",
       "sxIAjWJ8jf1dsUDyVyDj038AnIeT1g4p/BPtoy0KUvAAAAAwAZ6xakJ/As7xirOfQIBj1oGa33x+\n",
       "krhYp1M/0UAH7jKfJOnXvYHs378r0C8GblFnAAAA3EGatkmoQWyZTAhv//6nhAFR+letwBf4Moy0\n",
       "+oS5qPO12KHcd8GjYHlHd1kUtYIe53qOMOoFJ0J4Tsfdur0tkZzG7QtL+zpTHv8uNm1XCMtZQPSv\n",
       "jB9u2yzZ8gXfduD5Pb1XXg5sjZexg3n2h2PUFAqWkK3alKHi8NEOxf7A4YuI9qqVwAGGYHdfntrs\n",
       "GfeOAzOb1qJQcXEqF2mNwptTdghuywkgnYOnlSUceIVJhDsK90m1FeYaQ6vzd0ERHS4T++dowpd+\n",
       "V9GtrCRuB/0WliiXvBQSWheKK96OiFgAAABdQZ7URRUsK/8CM2Gav78VydRj/uRP/5UJZ409VCAd\n",
       "oFV4PysBgAaGNMvBNq0zAj7Nq/KwauJM45ywKNhWUCpzFDGLmmuIQP67wzatnG6jQ4w4d6vBfaHw\n",
       "RrBdJ2qAAAAAPwGe83RCfwLNsxIAjWJ7DJq7pjuAAWJoxU0AILOrgR65gqNVmlVx1A+krVqIveeR\n",
       "8Jhv/o7+PUZEjUmzNJaygQAAADYBnvVqQn8CzvF/NzIqt8+ym+gqUiABrlt8rlP6CpaU95b0vrzj\n",
       "snxbzlWV7DV70YVdAqM/auQAAAB4QZr5SahBbJlMCE///fEAGIKv+4jOhKYaz5yDIg59SblYmXwE\n",
       "fE8k+aR31hAjACSHwkOBXqkvfqu49g0agPtIR2XKvjSIk8y9IWJBK93ZcFGyALyLx3utPgA6Kwir\n",
       "kyjYspiWSUGZ7EycKiJtcdm8jsejspHS7vxBAAAAREGfF0UVLCf/As97wc13If6DT8pcu/q9Nfhs\n",
       "8FcAHeGVWe6jvUQuaWKf7bZoBfkGcfwVZrgKzfLHI5oUk9/fjQeBqAfhAAAASQGfOGpCfwLO8YLu\n",
       "ZWP+a2XEs6y3VYEmgBMoLYHk/jpZAoMwu/zziOzt0bf6DExWlL8LzighjZ4KNuaLRQn5u1uq5DoL\n",
       "pD3NMJwAAAr6ZYiCAAQ//veBvzLLXyK6yXH5530srM885DxyXYmuuNAAAAMADN2InuDxGB/BPa4A\n",
       "pgP7l+e5739GAJM+/H0ObBqSQcapvgaKyXne+eeqWoUQ96vVr3IL8cNOHQd+KCDNVrlK73M7oJUO\n",
       "Id5RIEpjT/PH+kj5Iu+ssPX9AALbEFZZQhSkM9H1o/G9Je+SRLO/OxmmIUY/bFEc2v4Add+Bdp70\n",
       "CXzQpEbVIdyG5bybJJ+AKQTU0OJVxgIwzI2tHJkTyjYYgeanXKYhjVO35k9nMN0c/r+xLR6DcS6Y\n",
       "sgQeLOhyOUmmHRlitNKzJ9uPZWiqjzLLUeEHWTkSscOl1JqhCqt09B0DmnuVeyqEFY8lp9muekA/\n",
       "BYNx0m3ToZjchR4lCrOtJCSkENI/6tPESTiusKWfyVlb5flpnGgiN0UGTnKJn+T7VOS38//BmBaX\n",
       "6/xtfjhiHywHJUg+b4z1k/z3tOAoPPVouGAvkJ+1wUVNzEnBFlhpva7pq7mZBXDY1HAg9Tq2OA6s\n",
       "tbi/vfxw7H9Sw1OGud/+uwRVF+DQtzcmEYiumMkTHSej5AsHcDTQASwL1KKHz3KmhllmiB+5C8Ae\n",
       "ExG1/SSbGVM3iN7dJzyntbwbmXM2LdIVZGlS9eNKfPD4Dii54LJIb3hBRbl5i7e+RwOaw+AeXuuj\n",
       "Lz1xggqxJGeH3zB33pLtdBsMT8bQKUmP06cB6R+5vp+gPF1nlhfsl4jkEypZYwIDyZmE/2UaU38T\n",
       "9g4gYXB/izYJpV2sv+uLEiHRByeDI3tW3Gn/vPXMgEJrJX5QH7kZ2SjSB7e1kauL/xZTmMkkzvnz\n",
       "aH/k6PEVQ49s39juZFIMu5RJSecAB7oGvMADwSWz2yEElzpCRjypwNOAwcrh1KBvXw5VBVmaNTzi\n",
       "O5muklZNTBqwfpgup1EC2AQFvy1/uTbdPbzd98dW2p4mwkrtDPJSOu+nmCZy1B4zIaTIWTLGI+9l\n",
       "fcWuUxXBhRsAJ+8YTr+iNhg8qNK3V+Fu0Jobf7N4MWL66u4m1h0NrUk6SNA4iOdDU8hEMrhwvcIL\n",
       "uKC2h6hgV1ACg9WuMtjQlTxzNuJOp+rBfh8Qq+BZyCK3yYXdlvNQvzj0//M9gJZWfFKVlNyglrWV\n",
       "zujDHmUx9GaWLr5WkXenOchc1ABprT5IZPjiVIfSbF4c7+kICAjzdVDE7q7yhqcuLCvoQSVhjYSF\n",
       "xXc4EJz4erbbjWGW4OpBDG43FXm6u0GS86hNHZ5byoVhCmGREQa0IY0bqocukL2sEH4j6aI1wvY0\n",
       "fFdqZKzD439MQK5j9NbpzN5yNmeXCoGn9WZPLjzPxxJM5776TMk/rSdzvzwe51c2u0Oq8riZSuNg\n",
       "489KrJyAFo8Y4aRYLLwR69fbb6+C6S3lWhiKilWszCETp4KjOFcjhAXl8oNpzhzJjLtXnigSRpCc\n",
       "F575tYSrmVUfVbIGV4ESVYyki4CBi1BAhK/PGS+QJwShyFaf8+JjudM09tuAwwaOCafumm7nJqTf\n",
       "gl7eW0LFb7GAam7a19qU/Ipfe7qa8kxd4LDt5RO6DSwTeLAGfxC2Ik2P6qHXpE6t3p2lkmyfXnp1\n",
       "wbyhAnlNVToABklnF4TUR6KPGr6eLSSVtIC1HfXc8OQdyq8Kz1IUVvjwvzktrX07IEdlicUV569n\n",
       "uTNrenT+D57oP7C/Tv2m8nlIW+kw0qEtf/D6qe5loPhaDvrG2/meyjvglChWtvkdawtu4q9JRmgO\n",
       "cSyaD1YB266TRuiqqY/CF4li1zBi3Bq1fONMGZkVwKCfpoSVdxRPLd4cTgznPDpGgy5K6eGDzjqW\n",
       "2xGyBiWYyJxzXgOyneb13FsU6MQ2uj2PuZVUywldyxMx9pMV7TIj1lCpbQwq85bl1dGqqzjVfO/A\n",
       "m3enw/mG/ANBM3zZquxBTMDSweDKg1ExqroNrPKFw8KiQiy+48H7XyDnrLDVMhKJpAc/1OS3pwEc\n",
       "8w2yfKz/CVa04FItQdveXn4WfL50+gYqiLGDuJXHiJ3aqmR7CIzEK25eVIXPYwbESztKACPCtR6M\n",
       "+8d0yQJjm0Lkv898BrzaHqOYzQUK7uoJ5eDdg+wbV12kiaoyJ6vnU87Syzsl0bHIAy+rk9P9sQoK\n",
       "5oCFxsqHw/b9YsCVqxEIbidJ/xZS2Qk/xn8atpufx0iAgP0qDSR7NQl+Sx+GjfzsCzcd/zcEILcd\n",
       "uctieQ/M1jSQvthuPGzAa0Cg4GSoqrXOhNk2OJxnbzkB85xi06/AW9AXzcj4awXUwr35nMGOR4ou\n",
       "v4BBDdnfDywxR4tOoHAD3uaD4jGG6OlBpZfyz4gKxdrBvgI8eJ3x2dHg0+6FNgeOMWx9/Sz4S1Id\n",
       "PJ9UEyJ911UsaF9cp/E3Fkzmohu4hhwj3yytVmXbw5K7gPthhfgGQlDV/cDn43Z+t5ryzB/DJRzI\n",
       "H+1dvj14XnB9osPti6ysH/8TxCujvGAmRKCOBQwxVUTGDKN0xPMNGd4sat71djSwEWGzJnc2rU+z\n",
       "ZQliOEJxANUj2s4xM7ffgioRnanalgNCL3LQm7uAJMuikanMyysnwaiayWroNzkffPe364HrUEff\n",
       "UDxv04ZYAHwrSGnFdG0XJblHRuRLH7RQgxnkoP+Y1O5r8K/nZB+HhsEaW19HM8fawCr/U5utLFvG\n",
       "LdfWepX+RsZ46E6nXhmK4RDVhNvNA+3q0aRmi3o4hCz+dajYFWuNzPCTg7ibqAYkcBpxk29C7UX8\n",
       "M3Rwvo+IJeqYDewvbH+imMKKgKFMdlqNXxEZI8/OjuxZUH90PghbKCigvKukkuqe0ITr+dx5VnaJ\n",
       "F1fY+1F+9XAr4F4R/PfnDPFeTJi7oGE09qc1JD50ehsJfKJokkB8mKlqdydDF8OpZCjTgzhNWEVo\n",
       "F5JsA2vzP5t3ze8KRBiB9B2hsjNQJAEavZd8L9yEmGR0q+FbTt/IL0t2OWvAA5fRBVRIrKTrmYPw\n",
       "tASmNokaa8pbiK0P/3YiK1no78KLOHB6UBalsDgF5D5RV/F6Q+3nxYFtreor6xThavnN3v2EvMjO\n",
       "NTGzVhrFAKbSxheV1/Ocygw44MwcB6cCoTMP122sMwL7HPZTllvNEV/xdGfM4BM+nhXCMEanVSKZ\n",
       "QgFQlwej/8qhIHhtVTJ81WnUbRVWwBrLZqn/L0VA4eIdF6tlYjLrfN80xBHvfdry5eVrP9DDcc+x\n",
       "KQeGmYTDVVm6s0z+r8hgY8J3W+xxh4XUa9S5X65pJapbSkolXL7ZGruhZUjVYL+X1kuN1LQgWPdZ\n",
       "UuxzNu6hHMrSZrw1H97kW4d4bOlCQ7Om9Ks8C3tDs5MvDickA/En8UOt5XW/rt7NNT/Tc39JEilZ\n",
       "SJicUCYBDp4E9JTkoDW4gZ69+/dGTnGUUqlM/9klKZCTXIIhqFT4tLE6e4XHqelOLiraSRHpFJ1V\n",
       "wAc3De9r9sFgC6/zNgjjB5+XXrACBHQPKdbxQ6il+5jJCbHQAWQDZnfdWCY09KNqMS8hSQSLh3dk\n",
       "RWL5/ZiKFhkbbRIDfYSx54pYD6razEVPGEDpfbQC5d360pn165XfgoxXWPg1/XsyUyj9HnvewFpS\n",
       "UAM5ivi9HBGXegS+aRR6447Ut3QNmNfoO7KRF1XOOmq/T4jZHyVq2gHB5QOolxHMnbUqETPjxLm+\n",
       "JiagGlOwEk6fezbIhyvDUsSyNqZh3TK+K+sBI6Ao/BSGf8InRy65Fm2YasUbT9s5iNN8A5Ojlt/u\n",
       "/znerEQemqXaxbdsC8FVilQxMAABCcGcNOEAAAHCQZokbEM//p4QBf6hOAGfMbMdq7HOfOwack1C\n",
       "ooGY/JVAN0G3arGIKQ/kWJ+0nBddpH3vSboP1dXZEkzkrs7q5pbfljnKWspxZDPbtxWPDFdsd3PO\n",
       "+7ygrGaH6qiMbEl4P/X15ireuRxPygIC/H1/xkouctxyMmP9LzdYquPD3mMFvPV9YcKYbHxMn27A\n",
       "7dPGO5abr/QGP8+JwkljGrar+DOWz62Jj8TXaN0dyaljNuWHuDzstgCgcd1dPneqMp9erZyC506T\n",
       "4+9lr/6Oz+3ETrNUQMuSqKQPNnBqJeorIGGMAh/AfS12BDa50allcd3iQ31QcCrcDnuOaMNLZCpP\n",
       "DDxm6va8mWhhChJC2qwIUiM5CN5kktzEDXsbE7Dr9iTcwD+c/nBk/c4ANJ0Zg6lVb/AF1zSJB27/\n",
       "RGmnbp1lX+oM8oK0qeM4ZkRm/g/nYAQxphEdbZRRGXt3OJBszGs4jcGXop+mj0NjTymJ81JsJEDt\n",
       "3UFovPhLcNpfp1oOo7RDt6REXm/trDLivbSPRw0WkTxrP9HZKC6agQLvkx58EvhGCV3sUsTmoGS7\n",
       "4ytXL1qeQAwqW5Tuk6jWmkKwuKBNG3yPAAAAcEGeQniFfwE2kuXog/SsLtKS8IYAFPRzx4V2bMBD\n",
       "08LG7kAPKdh+FwADghdYiObrLoXZgGWl4lvlerGz2VEnskdMFNrgTJZ3ZIdMVbWKksVltzO8rSNB\n",
       "j8rfD5jWKUBu/SDQLuxjD8nqhf85x7F/wb8AAAAlAZ5hdEJ/AVhGUZtDtuZS+N4BMByFC/I3I2Ty\n",
       "0uk9wLmtNt1AsQAAADUBnmNqQn8AFrt/oYr+coaQjJ9AASwvvtCZGWLlgSEkO/5r45QpDDY3qjTD\n",
       "GMvKWDVtzMrAmAAAAKVBmmZJqEFomUwU8M/+nhAFHHErVAHqev1Uh9ZfBV94np7xzrxAnMZwPltw\n",
       "lWEAVill28EuRJhjhFESRxhKTASeO8RD2OdRTxJqUkR6fqjMQU7jth+y0D8e4O34gqdIB9sNfnlU\n",
       "jW31Yr7nbQobbf5yI8pDA2bcT01xgu/ks2CoimlSPs5Mep77rBDvkN6432jCSJTY9fNZtC/5oleX\n",
       "xsoSxtTWeHAAAAAsAZ6FakJ/ABa/M59WraK9AkD5qQAGhQ0JSQWo4kvq7QFfGZQF3UGIf7TSjNkA\n",
       "AACmQZqHSeEKUmUwIb/+p4QBUfp2vgDKuzkaaPaK9IyuasUY/VE8F3mvv/m71SBhODDXRO57bu0p\n",
       "ob3GOCQQpFAOAO8DmznNqepxi6n3ASRvfV3LZFCRiO87JExiOssZMFwvT0Qp/HVq7W3tn0fOq0fh\n",
       "T+dWlmbIkp0kdwXk5+tyXOXiVcUxwqHgRyhzLwVdrp3bziXQCjHRp/ECyfvXTZZ4IVEsfcekwAAA\n",
       "AMlBmqpJ4Q6JlMCG//6nhAFR+n1yADm7laYGrFvntVpjdAkdkllEW7FH//iwHIfXWDUiB/OZ43Tr\n",
       "f2G/Tyr2GWk3zLl8rr2xXUqa//gW8pGvgwu9t1+MXcBfjPh+lE7pMzpwKbI2PQeaKVNd8lVr8GUk\n",
       "rMRVHvB+ZXQ1qtwYOYvEcRoj1vkvfjSL8pMg5Zv7OaNN517vinyChWidJnu5vhHbD2qP2Mj0/VkN\n",
       "+H9NqszRRUq580lnuZ5K4SUivv/Asrl2EdhCPHAMZTUAAABLQZ7IRRE8K/8AgvrJJuWIIHxnVi9k\n",
       "Vjv9eFjNt9BgAzetoto7RLDYnZe2ocfLG6PXKbtjZb/9BnFigpnMqkBqg5et23gDx7DgU24QAAAA\n",
       "OAGe6WpCfwCs3AQs5GbIu3vxHlu2EwAEHmhO74EfZwM3c/qldmR7em2seXuU3uUWDcnJf7RpD67P\n",
       "AAAAvUGa7UmoQWiZTAhn//6eEAUccJfbAIPMLlcW+LMywMVuOeanMbFRb1Q3uv181cQt7e7W7yv6\n",
       "xtZaqCTRsA+roxvUK3nNZWjjdLSG5mzPNKXUvEu6j7n971iQME8ZEIDJYsTimr7IDulr5AoUcsCK\n",
       "6yadQQJU9rnPmBKloLCfUyoQQRN48lRH+Tg+2E4Ciu3AqaB8HUmy/oJv6Z2Isxl1JxvgeQM0w9FI\n",
       "qH+O1i1QEjjvmIxK/KPkbYSCf5hwgQAAAEZBnwtFESwr/wCDBmloldoYWaqK6cL+vbYtB3ykXx51\n",
       "wAWscL7JS0Ex9zHemt98fILXsFXlF6tsTS391ToWJU4ItP7PWXQhAAAAOgGfLGpCfwCs3AdQsnpU\n",
       "6onh38rE4jL7TJgAQudV3/5fzeJBipk8VnQiVYhdHueo28eiwhtK7BvnguEAAACZQZsvSahBbJlM\n",
       "FEwz//6eEAUdR4LIAChN1QUu2nHDfjf6J95xipCx2//2Q3xtf2GTm6v15ziNba1OYKS4MK34lXzi\n",
       "P1j1CCMzh1VGwJTOGPUmRa8OdtYdeukx3w4HORckPwhVYaxMD6uRa9HkDMhMTo64Jgh5uKvKovGk\n",
       "K5ZMa5GwLRFs2Z8SPvVJheNlsWTtOpEq+/f/9IJIAAAALgGfTmpCfwCs+cLp+o92vuHcKVQgAgsK\n",
       "DF3liLPsxHgRJwX966WemKIByLUWoYAAAAB/QZtQSeEKUmUwIb/+p4QBUCBWAA39aUbJlDUbCogu\n",
       "3qnBtcWte4CPd1xmETCDSqRTHzR8J3sg9JX3YhSxrm+PuyeumS56T+XEUjwCHa3928G9E30RRxGV\n",
       "0ltGL89c2MjjEwhhOZhQaHvBZ0i7/NBSoO3PvLOczvNIZ7O8zX0ChwAAALNBm3NJ4Q6JlMCG//6n\n",
       "hAFQHw0gDiofiVnedb6dhs1B3KuzPHf5LwPgZFKsJ+KbvjFOPDmlIxmRydvChyf/+OAZaI8ScMzO\n",
       "JhHwYtPD3hLOGI3Q4LUn6B/8GBLz0FDyRXe+8HacUO5fNNKd/wTkE2MGI6kYBKwFFfr8ShTVf0tR\n",
       "oCqPxOhyluW94Qh8uR6iH6xL/oynGEkUzE66MfeRvgIkh6y31P3EUsOTVfA+4tEmcMVXgAAAAEBB\n",
       "n5FFETwr/wCC+se5t1ca+oNqCKE5BoceyAEFhialNMhjxfRnZKtWUVGREnvyQgNcj+ghIZLmSm0Z\n",
       "pFOu9VaaAAAAKwGfsmpCfwCs3AQs6MhPSMkXrF37B6HgBNSryahsp7z8wN5Q8GmJNOOfCiEAAACh\n",
       "QZu2SahBaJlMCG///qeEAVAl/QBfj/71vQJPf2ZCJAluE2pS9bPIEPDqAqK6l426hohgNMiG/0wv\n",
       "6i/Hqn00qp5tjY1mHGoMKeJNJmrZAnYd0FxqP/deGKvhcJpie0hjb1x7/7DCrQyWLp3QMnVQae/9\n",
       "ePhdiPlyy/FQfjfUZoFQjARAVjiU4rbM5K2Qh+imzPI7AXjWd308uDX/SftehsEAAAA6QZ/URREs\n",
       "K/8AgwZn1INp+waMycVDJ1CdIHAUAHyPkBuC63YVbG85VyZZTkoYlIYzcBEhtjHll9f/gQAAACcB\n",
       "n/VqQn8AFruA3W3frr8AEORTio+3IV/aC6fdEDkCd3v/z+d531AAAACZQZv6SahBbJlMCG///qeE\n",
       "AVAfDSAKtFerYaJyVYshkRIDXd2IBOcdpx8G9WkUFpB8xG2iVT8+PW8E3xnMPjkUus5UoGkq3/bW\n",
       "f+iPROiYkBdS4ODTb6T1ulQa/qtQeC7pgyA7Z75LskO0D4+D8EA/QE/tt+XTL0DGM8EXYOlTcvuF\n",
       "fZKHy/qf/JxWkRJKrIBHbg8AXf6eBkCgAAAAT0GeGEUVLCv/AIMGaYd7rm+3k8D2JRI8sqDCy5uw\n",
       "owlcjpAAmYLKF8GdH0c/bMPDnVvW4OgVErKqnh+ndDvwMp855LnU/IdKMvJY7y+plH0AAAAfAZ43\n",
       "dEJ/ACxeupqH51M3EiJLl13ZI58vNl+OCsqsoAAAAB8BnjlqQn8AFruA36LwcY+ooHeui3Tpxr2J\n",
       "KEF5/oDAAAAAnEGaPkmoQWyZTAhv//6nhAFQIFYACuezNeH0B62QxLm4L0yFCfauIShl396M/mJF\n",
       "68CMvQTcarguyRDqFAgQvGj9Cgjp9uC3bb12whk2N29ZR8W/vqCWQXNSagu1qKVGYVPzHvN3vg1+\n",
       "QL7mgB14kplfx7xYuuKsLlw25IbfKpsDkbGZ2TCXanp1ykGlArf8TcNaz21SsHH3vm1VQQAAAD1B\n",
       "nlxFFSwr/wCDBmVWjumLfZb1zWH1jK+nU5qgBLDLaSmg2mLX4o+w0bN7ICLat1eDpSXfoXc1XmGE\n",
       "P5O0AAAAEwGee3RCfwAWtGTaxN9JxsvvLFMAAAAoAZ59akJ/AKzcBCzoY63WdxUAH4kTrOkzgybY\n",
       "+rQwDnv3S6CB1MrcYQAAAJdBmmJJqEFsmUwIb//+p4QBUB8NIAh4sCasvCqMgvnHfygE+BDk7M6E\n",
       "TADWMcpIVzPyPckExN8RNYc+tm3cQhzCD/P/ao7g3dvB+kk6x4HVynXPAa0lRux51xo+vnr+vE6Q\n",
       "YcmYR6l4g6l0e7Go+/0r74yKakf1vmlI77XoB2FptwxqaqYlSZTRUtOBApUuG693mMiOW2bwAAAA\n",
       "RkGegEUVLCv/AIMGZVZz2xb0N49yhQijeOgAsKRNS3rR+9zpL2Aq3pHw9+mqE62K2koQGf9yJmsu\n",
       "KYRu1oAvT3+2+wYsqd8AAAAYAZ6/dEJ/AKyjKOFl2RU+OvoMF6RGdLhQAAAAHAGeoWpCfwCs3AQs\n",
       "6Mga9Ttjm8hiD8uwZmvkDuEAAAC7QZqmSahBbJlMCG///qeEAVAgVgAHBinBudimJkKdHMwiQ/oT\n",
       "Al0WCcZHSrPS60VHKCc4VhSie4W1DeYu003O5xhg/9wcN5bgyHgHp40/q2mUI4J4vZbCuIGK5aKd\n",
       "vmglASKfbuPjnb2Ze6TqghR2hOMXIPgs1QUCzIN/ezBBGd3gzivABx85GtYvO66CQp6KtAuXIxot\n",
       "uXbWEJzbsUeTnPc7nWVytua3jMGPFlbbUrWyfotruHqa2INSgQAAADlBnsRFFSwr/wCDBmmNvf4f\n",
       "nYrNXI3upJAH94qsX5mk3BwJ5CMWgAnUMpOMsdEAWtyy1jGRRsiz7qAAAAAeAZ7jdEJ/AKyjKOFm\n",
       "NnO9cQZ8f22IK46QX3GXy3FsAAAAFwGe5WpCfwCs3AQs6GKehhrjaP8pWcvpAAAAcUGa6kmoQWyZ\n",
       "TAhn//6eEAKLwNkCNWm88pYEUK1nJz9PEgDvG2zgAtMzueG8zmR+vMZi/wNxJI5aIsjYySVCxqh1\n",
       "BnU0NVexDw40/OXnWtVxBY2TBMUHaiq5tsvcZdUFiTPzRTEl/h4+2XCrPbCxTelgAAAALUGfCEUV\n",
       "LCv/AILJDR2fzsp+yi27ujb4Cqieuo9//MNnOeAA/qCOqqdbopqmPQAAACEBnyd0Qn8ArKM0u/HW\n",
       "DuS3VTnZgqAu0k8gcRLfXSnIwCwAAAAXAZ8pakJ/ABa7gHudDZPQAjsTFo+i0DsAAABnQZsuSahB\n",
       "bJlMCF///oywApQK1a/zJ8ZHgar0e879keCZBPuAFjkBa+IXHBk9dPMEWfUWSGsqLJMSx+FW73zd\n",
       "COLfsgVrktJpFaHwql5K7J3wY4pn3jh/+8P1e9luDvbfSiQb/+1NIQAAACJBn0xFFSwr/wARYMz3\n",
       "/6oFS3e7h4JedtNTNUmUHURAOL4RAAAAFQGfa3RCfwAWtFPPTAswV0/rusiPpQAAABQBn21qQn8A\n",
       "FruA2zn0Mx8wlMsQlwAAADFBm3FJqEFsmUwIT//98QAAv/mfkImX0upAAFsyXUA9m4SALK3SGJsA\n",
       "BnLp3ElIYEOoAAAAJkGfj0UVLCv/ABFgzPa/82eU7yxQA6El0q4KAA/8qU6TRIx5ThCBAAAAGQGf\n",
       "sGpCfwAWu4B7nQ2PZA94cZ2idz8uCUAAABCqbW9vdgAAAGxtdmhkAAAAAAAAAAAAAAAAAAAD6AAA\n",
       "JxAAAQAAAQAAAAAAAAAAAAAAAAEAAAAAAAAAAAAAAAAAAAABAAAAAAAAAAAAAAAAAABAAAAAAAAA\n",
       "AAAAAAAAAAAAAAAAAAAAAAAAAAAAAAAAAgAAD9R0cmFrAAAAXHRraGQAAAADAAAAAAAAAAAAAAAB\n",
       "AAAAAAAAJxAAAAAAAAAAAAAAAAAAAAAAAAEAAAAAAAAAAAAAAAAAAAABAAAAAAAAAAAAAAAAAABA\n",
       "AAAAAbAAAAEgAAAAAAAkZWR0cwAAABxlbHN0AAAAAAAAAAEAACcQAAAEAAABAAAAAA9MbWRpYQAA\n",
       "ACBtZGhkAAAAAAAAAAAAAAAAAAA8AAACWABVxAAAAAAALWhkbHIAAAAAAAAAAHZpZGUAAAAAAAAA\n",
       "AAAAAABWaWRlb0hhbmRsZXIAAAAO921pbmYAAAAUdm1oZAAAAAEAAAAAAAAAAAAAACRkaW5mAAAA\n",
       "HGRyZWYAAAAAAAAAAQAAAAx1cmwgAAAAAQAADrdzdGJsAAAAs3N0c2QAAAAAAAAAAQAAAKNhdmMx\n",
       "AAAAAAAAAAEAAAAAAAAAAAAAAAAAAAAAAbABIABIAAAASAAAAAAAAAABAAAAAAAAAAAAAAAAAAAA\n",
       "AAAAAAAAAAAAAAAAAAAAAAAAGP//AAAAMWF2Y0MBZAAV/+EAGGdkABWs2UGwloQAAAMABAAAAwDw\n",
       "PFi2WAEABmjr48siwAAAABx1dWlka2hA8l8kT8W6OaUbzwMj8wAAAAAAAAAYc3R0cwAAAAAAAAAB\n",
       "AAABLAAAAgAAAAAYc3RzcwAAAAAAAAACAAAAAQAAAPsAAAjYY3R0cwAAAAAAAAEZAAAAAQAABAAA\n",
       "AAABAAAIAAAAAAIAAAIAAAAAAQAACAAAAAACAAACAAAAAAEAAAYAAAAAAQAAAgAAAAABAAAKAAAA\n",
       "AAEAAAQAAAAAAQAAAAAAAAABAAACAAAAAAEAAAYAAAAAAQAAAgAAAAABAAAKAAAAAAEAAAQAAAAA\n",
       "AQAAAAAAAAABAAACAAAAAAEAAAoAAAAAAQAABAAAAAABAAAAAAAAAAEAAAIAAAAAAQAACgAAAAAB\n",
       "AAAEAAAAAAEAAAAAAAAAAQAAAgAAAAABAAAGAAAAAAEAAAIAAAAAAQAACgAAAAABAAAEAAAAAAEA\n",
       "AAAAAAAAAQAAAgAAAAABAAAKAAAAAAEAAAQAAAAAAQAAAAAAAAABAAACAAAAAAEAAAoAAAAAAQAA\n",
       "BAAAAAABAAAAAAAAAAEAAAIAAAAAAQAABgAAAAABAAACAAAAAAEAAAQAAAAAAQAABgAAAAABAAAC\n",
       "AAAAAAEAAAQAAAAAAQAACAAAAAACAAACAAAAAAEAAAgAAAAAAgAAAgAAAAABAAAIAAAAAAIAAAIA\n",
       "AAAAAgAABAAAAAABAAAKAAAAAAEAAAQAAAAAAQAAAAAAAAABAAACAAAAAAIAAAQAAAAAAQAACgAA\n",
       "AAABAAAEAAAAAAEAAAAAAAAAAQAAAgAAAAABAAAKAAAAAAEAAAQAAAAAAQAAAAAAAAABAAACAAAA\n",
       "AAEAAAYAAAAAAQAAAgAAAAABAAAGAAAAAAEAAAIAAAAAAQAABgAAAAABAAACAAAAAAEAAAYAAAAA\n",
       "AQAAAgAAAAABAAAKAAAAAAEAAAQAAAAAAQAAAAAAAAABAAACAAAAAAEAAAoAAAAAAQAABAAAAAAB\n",
       "AAAAAAAAAAEAAAIAAAAAAQAACgAAAAABAAAEAAAAAAEAAAAAAAAAAQAAAgAAAAADAAAEAAAAAAEA\n",
       "AAYAAAAAAQAAAgAAAAADAAAEAAAAAAEAAAoAAAAAAQAABAAAAAABAAAAAAAAAAEAAAIAAAAAAQAA\n",
       "BgAAAAABAAACAAAAAAEAAAQAAAAAAQAABgAAAAABAAACAAAAAAEAAAYAAAAAAQAAAgAAAAABAAAG\n",
       "AAAAAAEAAAIAAAAAAQAABAAAAAABAAAKAAAAAAEAAAQAAAAAAQAAAAAAAAABAAACAAAAAAEAAAoA\n",
       "AAAAAQAABAAAAAABAAAAAAAAAAEAAAIAAAAAAQAACgAAAAABAAAEAAAAAAEAAAAAAAAAAQAAAgAA\n",
       "AAABAAAGAAAAAAEAAAIAAAAAAQAACgAAAAABAAAEAAAAAAEAAAAAAAAAAQAAAgAAAAABAAAKAAAA\n",
       "AAEAAAQAAAAAAQAAAAAAAAABAAACAAAAAAEAAAoAAAAAAQAABAAAAAABAAAAAAAAAAEAAAIAAAAA\n",
       "AQAACgAAAAABAAAEAAAAAAEAAAAAAAAAAQAAAgAAAAABAAAKAAAAAAEAAAQAAAAAAQAAAAAAAAAB\n",
       "AAACAAAAAAEAAAgAAAAAAgAAAgAAAAABAAAKAAAAAAEAAAQAAAAAAQAAAAAAAAABAAACAAAAAAEA\n",
       "AAoAAAAAAQAABAAAAAABAAAAAAAAAAEAAAIAAAAAAQAACgAAAAABAAAEAAAAAAEAAAAAAAAAAQAA\n",
       "AgAAAAABAAAKAAAAAAEAAAQAAAAAAQAAAAAAAAABAAACAAAAAAEAAAoAAAAAAQAABAAAAAABAAAA\n",
       "AAAAAAEAAAIAAAAAAQAACgAAAAABAAAEAAAAAAEAAAAAAAAAAQAAAgAAAAABAAAKAAAAAAEAAAQA\n",
       "AAAAAQAAAAAAAAABAAACAAAAAAEAAAgAAAAAAgAAAgAAAAABAAAKAAAAAAEAAAQAAAAAAQAAAAAA\n",
       "AAABAAACAAAAAAEAAAoAAAAAAQAABAAAAAABAAAAAAAAAAEAAAIAAAAAAQAACgAAAAABAAAEAAAA\n",
       "AAEAAAAAAAAAAQAAAgAAAAABAAAKAAAAAAEAAAQAAAAAAQAAAAAAAAABAAACAAAAAAEAAAoAAAAA\n",
       "AQAABAAAAAABAAAAAAAAAAEAAAIAAAAAAQAACgAAAAABAAAEAAAAAAEAAAAAAAAAAQAAAgAAAAAB\n",
       "AAAKAAAAAAEAAAQAAAAAAQAAAAAAAAABAAACAAAAAAEAAAoAAAAAAQAABAAAAAABAAAAAAAAAAEA\n",
       "AAIAAAAAAQAACgAAAAABAAAEAAAAAAEAAAAAAAAAAQAAAgAAAAABAAAKAAAAAAEAAAQAAAAAAQAA\n",
       "AAAAAAABAAACAAAAAAEAAAoAAAAAAQAABAAAAAABAAAAAAAAAAEAAAIAAAAAAQAACgAAAAABAAAE\n",
       "AAAAAAEAAAAAAAAAAQAAAgAAAAABAAAEAAAAAAEAAAoAAAAAAQAABAAAAAABAAAAAAAAAAEAAAIA\n",
       "AAAAAQAACgAAAAABAAAEAAAAAAEAAAAAAAAAAQAAAgAAAAABAAAKAAAAAAEAAAQAAAAAAQAAAAAA\n",
       "AAABAAACAAAAAAEAAAoAAAAAAQAABAAAAAABAAAAAAAAAAEAAAIAAAAAAQAACAAAAAACAAACAAAA\n",
       "AAEAAAQAAAAAAQAACgAAAAABAAAEAAAAAAEAAAAAAAAAAQAAAgAAAAABAAAGAAAAAAEAAAIAAAAA\n",
       "AQAABAAAAAABAAAIAAAAAAIAAAIAAAAAAQAACAAAAAACAAACAAAAAAEAAAYAAAAAAQAAAgAAAAAB\n",
       "AAAEAAAAAAEAAAgAAAAAAgAAAgAAAAABAAAIAAAAAAIAAAIAAAAAAQAACgAAAAABAAAEAAAAAAEA\n",
       "AAAAAAAAAQAAAgAAAAABAAAKAAAAAAEAAAQAAAAAAQAAAAAAAAABAAACAAAAAAEAAAoAAAAAAQAA\n",
       "BAAAAAABAAAAAAAAAAEAAAIAAAAAAQAACgAAAAABAAAEAAAAAAEAAAAAAAAAAQAAAgAAAAABAAAK\n",
       "AAAAAAEAAAQAAAAAAQAAAAAAAAABAAACAAAAAAEAAAoAAAAAAQAABAAAAAABAAAAAAAAAAEAAAIA\n",
       "AAAAAQAACAAAAAACAAACAAAAABxzdHNjAAAAAAAAAAEAAAABAAABLAAAAAEAAATEc3RzegAAAAAA\n",
       "AAAAAAABLAAADqkAAAC5AAAALgAAABoAAAEOAAAAMwAAADEAAACfAAAANAAAAPAAAACAAAAAPQAA\n",
       "AEMAAADOAAAARQAAAQoAAACHAAAAagAAAEAAAADmAAAAeQAAAEwAAABkAAABCwAAAGMAAABcAAAA\n",
       "eAAAAP4AAAB8AAABBgAAAGMAAABzAAAAdQAAASAAAAB7AAAAYgAAAF8AAAD+AAAAkQAAAGkAAABl\n",
       "AAAAygAAAG0AAAC9AAAAvwAAAH0AAADTAAABCwAAAHcAAABtAAAA2QAAAH4AAABiAAAAyAAAAIMA\n",
       "AABlAAAAkQAAAJwAAADzAAAAmQAAAGcAAABiAAAAtQAAAL4AAAEtAAAAnAAAAGUAAAB2AAABLgAA\n",
       "ALwAAACUAAAAkAAAAQUAAAB4AAAA8QAAAHsAAADHAAAAWAAAAOoAAABkAAABHQAAAGwAAABaAAAA\n",
       "ZgAAASgAAACMAAAAZQAAAGIAAAEPAAAAcAAAAGgAAABfAAAAtAAAAJcAAACeAAAAkwAAAF0AAACd\n",
       "AAAAuQAAAJMAAADJAAAAXwAAACsAAABNAAAAigAAAD0AAACSAAAAtgAAADYAAAC2AAAAMAAAAM4A\n",
       "AAAgAAAAzQAAAPUAAABZAAAAJAAAACwAAADxAAAATAAAADsAAAAxAAAA1QAAAFMAAAAwAAAAQAAA\n",
       "AKMAAABAAAAA9AAAAHgAAAA3AAAAMwAAAMoAAACQAAAANwAAAEgAAAEXAAAAiwAAAEEAAAA3AAAB\n",
       "DAAAAH8AAABHAAAAVQAAAQAAAACmAAAATgAAAFUAAADHAAAAWAAAAEoAAAEfAAAAYQAAAEoAAABQ\n",
       "AAABEQAAAH4AAABMAAAATQAAASgAAACOAAAAQQAAAEkAAAD+AAAAowAAADUAAABRAAAA8gAAAHoA\n",
       "AABZAAAAQQAAASYAAAB/AAAARgAAAEoAAADaAAAAewAAAEQAAABLAAAAwQAAAFMAAAA9AAAA4QAA\n",
       "AFgAAAA9AAAAPAAAAPQAAABSAAAAPwAAADoAAADeAAAATQAAADgAAAAyAAAA2AAAAE0AAAAqAAAA\n",
       "LgAAAMgAAABEAAAAMQAAACgAAAC1AAAATAAAACkAAAAzAAAAxAAAAEYAAAAyAAAAMgAAAMUAAABb\n",
       "AAAAJQAAADIAAADoAAAAYAAAADgAAAA3AAAA8QAAAFcAAABAAAAANAAAAOYAAABqAAAAMQAAADYA\n",
       "AADFAAAAbQAAADkAAAAzAAAAjgAAAQAAAABnAAAAOwAAADIAAAECAAAAWgAAAC8AAAA/AAAA7wAA\n",
       "AGUAAAAsAAAANAAAAOAAAABhAAAAQwAAADoAAAB8AAAASAAAAE0AAAr+AAABxgAAAHQAAAApAAAA\n",
       "OQAAAKkAAAAwAAAAqgAAAM0AAABPAAAAPAAAAMEAAABKAAAAPgAAAJ0AAAAyAAAAgwAAALcAAABE\n",
       "AAAALwAAAKUAAAA+AAAAKwAAAJ0AAABTAAAAIwAAACMAAACgAAAAQQAAABcAAAAsAAAAmwAAAEoA\n",
       "AAAcAAAAIAAAAL8AAAA9AAAAIgAAABsAAAB1AAAAMQAAACUAAAAbAAAAawAAACYAAAAZAAAAGAAA\n",
       "ADUAAAAqAAAAHQAAABRzdGNvAAAAAAAAAAEAAAAsAAAAYnVkdGEAAABabWV0YQAAAAAAAAAhaGRs\n",
       "cgAAAAAAAAAAbWRpcmFwcGwAAAAAAAAAAAAAAAAtaWxzdAAAACWpdG9vAAAAHWRhdGEAAAABAAAA\n",
       "AExhdmY1Ny44My4xMDA=\n",
       "\">\n",
       "  Your browser does not support the video tag.\n",
       "</video>"
      ],
      "text/plain": [
       "<IPython.core.display.HTML object>"
      ]
     },
     "execution_count": 31,
     "metadata": {},
     "output_type": "execute_result"
    }
   ],
   "source": [
    "from matplotlib import animation, rc\n",
    "from IPython.display import HTML\n",
    "HTML(points_output.anim.to_html5_video())"
   ]
  }
 ],
 "metadata": {
  "colab": {
   "collapsed_sections": [],
   "name": "System Dynamics.ipynb",
   "provenance": []
  },
  "kernelspec": {
   "display_name": "Python 3 (ipykernel)",
   "language": "python",
   "name": "python3"
  },
  "language_info": {
   "codemirror_mode": {
    "name": "ipython",
    "version": 3
   },
   "file_extension": ".py",
   "mimetype": "text/x-python",
   "name": "python",
   "nbconvert_exporter": "python",
   "pygments_lexer": "ipython3",
   "version": "3.9.7"
  }
 },
 "nbformat": 4,
 "nbformat_minor": 1
}
